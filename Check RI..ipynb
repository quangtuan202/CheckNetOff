{
 "metadata": {
  "language_info": {
   "codemirror_mode": {
    "name": "ipython",
    "version": 3
   },
   "file_extension": ".py",
   "mimetype": "text/x-python",
   "name": "python",
   "nbconvert_exporter": "python",
   "pygments_lexer": "ipython3",
   "version": "3.8.6-final"
  },
  "orig_nbformat": 2,
  "kernelspec": {
   "name": "python3",
   "display_name": "Python 3"
  }
 },
 "nbformat": 4,
 "nbformat_minor": 2,
 "cells": [
  {
   "cell_type": "code",
   "execution_count": 3,
   "metadata": {},
   "outputs": [],
   "source": [
    "import pandas as pd \n",
    "import os\n",
    "import datetime as dt\n",
    "phaiThuGocFile='D:/Tai/131111.xls'\n",
    "phaiTraTaiFile='D:/Tai/331311.xls'\n",
    "dfPhaiThuGoc=pd.read_excel(phaiThuGocFile,skiprows=7)\n",
    "dfPhaiTraTai=pd.read_excel(phaiTraTaiFile,skiprows=7)"
   ]
  },
  {
   "cell_type": "code",
   "execution_count": 13,
   "metadata": {},
   "outputs": [],
   "source": [
    "import datetime as dt\n",
    "dfPhaiThuGoc=dfPhaiThuGoc[(dfPhaiThuGoc['Mã NT'].notna())|(dfPhaiThuGoc['Số chứng từ'].notna())]\n",
    "dfPhaiThuGoc['DueDate']=pd.to_datetime(dfPhaiThuGoc['Hạn thanh toán '],dayfirst=True)\n",
    "dfPhaiThuGoc['Ngay den han']=dfPhaiThuGoc.groupby(['Số đơn / EN '])['DueDate'].transform('max')\n",
    "dfPhaiThuGoc2=dfPhaiThuGoc.groupby(['Số đơn / EN ','TênKH','Ngay den han'],as_index=False)['Dư cuối kỳ > VND'].sum()\n",
    "dfPhaiThuGoc2['Ngay so sanh']=pd.to_datetime(dt.datetime.now().date(),dayfirst=True)\n",
    "dfPhaiThuGoc2['Ngay qua han']=dfPhaiThuGoc2['Ngay den han']-dfPhaiThuGoc2['Ngay so sanh']\n",
    "dfPhaiThuGoc2['Ngay qua han']=-dfPhaiThuGoc2['Ngay qua han'].dt.days.astype('float64')"
   ]
  },
  {
   "cell_type": "code",
   "execution_count": 76,
   "metadata": {},
   "outputs": [],
   "source": [
    "dfPhaiTraTai=dfPhaiTraTai[(dfPhaiTraTai['Mã NT'].notna())|(dfPhaiTraTai['Số chứng từ'].notna())]\n",
    "dfPhaiTraTai['DueDate']=pd.to_datetime(dfPhaiTraTai['Hạn thanh toán '],dayfirst=True)\n",
    "dfPhaiTraTai['Ngay den han']=dfPhaiTraTai.groupby(['Số đơn / EN '])['DueDate'].transform('max')\n",
    "dfPhaiTraTai2=dfPhaiTraTai.groupby(['Số đơn / EN ','Mã KH','Số kỳ','Account month','TênKH','Ngay den han'],as_index=False)['Dư cuối kỳ Nguyên tệ ','Dư cuối kỳ > VND'].sum()\n",
    "dfPhaiTraTai2['Ngay so sanh']=pd.to_datetime(dt.datetime.now().date(),dayfirst=True)\n",
    "dfPhaiTraTai2['Ngay qua han']=dfPhaiTraTai2['Ngay den han']-dfPhaiTraTai2['Ngay so sanh']\n",
    "dfPhaiTraTai2['Ngay qua han']=-dfPhaiTraTai2['Ngay qua han'].dt.days.astype('float64')"
   ]
  },
  {
   "cell_type": "code",
   "execution_count": 77,
   "metadata": {},
   "outputs": [],
   "source": [
    "import numpy as np\n",
    "dfPhaiTraTai3=dfPhaiTraTai2.merge(dfPhaiThuGoc2,on='Số đơn / EN ',how='left',suffixes=(\" Tái\",\" Gốc\"))\n",
    "dfPhaiTraTai3['Dư cuối kỳ > VND Gốc']=dfPhaiTraTai3['Dư cuối kỳ > VND Gốc'].fillna(0)\n",
    "condition=dfPhaiTraTai3['Số đơn / EN '].str.contains('TTY|EXC|XOL')\n",
    "dfPhaiTraTai3['FACT/TTY']=np.where(condition,'TTY','FACT')\n"
   ]
  },
  {
   "cell_type": "code",
   "execution_count": 78,
   "metadata": {},
   "outputs": [],
   "source": [
    "dfPhaiTraTaiDuDieuKien=dfPhaiTraTai3.loc[(dfPhaiTraTai3['Ngay qua han Tái']>-30) & (dfPhaiTraTai3['Dư cuối kỳ > VND Gốc']==0)]"
   ]
  },
  {
   "cell_type": "code",
   "execution_count": 88,
   "metadata": {},
   "outputs": [],
   "source": [
    "df131111_2016_2019=pd.read_hdf('D:/131111_2016_2019.h5')\n",
    "df131111_2016_2019=df131111_2016_2019.loc[df131111_2016_2019['TK chi tiet_Bên có'].notna(),['Số chứng từ','Ngày chứng từ','Số đơn bảo hiểm','Số đơn chứng từ','TK chi tiet_Bên có','Số tiền_Bên có','Số tiền VND_Bên có']]\n",
    "\n",
    "\n"
   ]
  },
  {
   "cell_type": "code",
   "execution_count": null,
   "metadata": {},
   "outputs": [],
   "source": [
    "df131111_2020=pd.read_excel('F:/DATA/131111_2016_2019/131111.XLS',sheet_name=None,header=None)"
   ]
  },
  {
   "cell_type": "code",
   "execution_count": 102,
   "metadata": {},
   "outputs": [],
   "source": [
    "func=lambda x,y: x if len(str(x))>5 else y "
   ]
  },
  {
   "cell_type": "code",
   "execution_count": 103,
   "metadata": {},
   "outputs": [],
   "source": [
    "df131111_2016_2019['Policy']=df131111_2016_2019.apply(lambda x: func(x['Số đơn bảo hiểm'],x['Số đơn chứng từ']),axis=1)"
   ]
  },
  {
   "cell_type": "code",
   "execution_count": 106,
   "metadata": {},
   "outputs": [],
   "source": [
    "df131111_2016_2019=df131111_2016_2019.loc[df131111_2016_2019['Policy'].isin(dfPhaiTraTaiDuDieuKien['Số đơn / EN '])]"
   ]
  },
  {
   "cell_type": "code",
   "execution_count": 107,
   "metadata": {},
   "outputs": [],
   "source": [
    "df131111_2016_2019['PaidInfo']=df131111_2016_2019['Số chứng từ']+':'+df131111_2016_2019['Số chứng từ']+':'+df131111_2016_2019['Ngày chứng từ']"
   ]
  },
  {
   "cell_type": "code",
   "execution_count": null,
   "metadata": {},
   "outputs": [],
   "source": []
  },
  {
   "cell_type": "code",
   "execution_count": 108,
   "metadata": {},
   "outputs": [],
   "source": [
    "df131111_2016_2019.to_csv('D:/df131111_2016_2019.csv')"
   ]
  },
  {
   "cell_type": "code",
   "execution_count": 79,
   "metadata": {},
   "outputs": [],
   "source": [
    "dfPhaiTraTaiChuaDuDieuKien=dfPhaiTraTai3.loc[(dfPhaiTraTai3['Ngay qua han Tái']>-30) & (dfPhaiTraTai3['Dư cuối kỳ > VND Gốc']!=0)]"
   ]
  },
  {
   "cell_type": "code",
   "execution_count": 80,
   "metadata": {},
   "outputs": [],
   "source": [
    "writer = pd.ExcelWriter(\"D:/PhaiTraTai.xlsx\",engine='xlsxwriter')\n",
    "# Turn off the default header and skip one row to allow us to insert a\n",
    "# user defined header.\n",
    "dfPhaiTraTai3.to_excel(writer, sheet_name='Tong hop', startrow=1, header=False)\n",
    "dfPhaiTraTaiDuDieuKien.to_excel(writer, sheet_name='CongNoTaiDuDieuKienTT', startrow=1, header=False)\n",
    "dfPhaiTraTaiChuaDuDieuKien.to_excel(writer, sheet_name='CongNoTaiChuaDuDieuKienTT', startrow=1, header=False)\n",
    "workbook  = writer.book\n",
    "worksheet1 = writer.sheets['Tong hop']\n",
    "worksheet2 = writer.sheets['CongNoTaiDuDieuKienTT']\n",
    "worksheet3 = writer.sheets['CongNoTaiChuaDuDieuKienTT']\n"
   ]
  },
  {
   "cell_type": "code",
   "execution_count": 81,
   "metadata": {},
   "outputs": [],
   "source": [
    "header_format = workbook.add_format({'bold': True,\n",
    "                                     'align': 'center',\n",
    "                                     'valign': 'vcenter',\n",
    "                                     'text_wrap': True,\n",
    "                                     'fg_color': '#4295f5',\n",
    "                                     'border': 1})\n",
    "for col_num, value in enumerate(dfPhaiTraTai3.columns.values):\n",
    "    worksheet1.write(0, col_num + 1, value, header_format)\n",
    "\n",
    "for col_num, value in enumerate(dfPhaiTraTaiDuDieuKien.columns.values):\n",
    "    worksheet2.write(0, col_num + 1, value, header_format)\n",
    "\n",
    "for col_num, value in enumerate(dfPhaiTraTaiChuaDuDieuKien.columns.values):\n",
    "    worksheet3.write(0, col_num + 1, value, header_format)\n",
    "\n",
    "worksheet1.freeze_panes(1, 0)\n",
    "worksheet2.freeze_panes(1, 0)\n",
    "worksheet3.freeze_panes(1, 0)\n",
    "\n",
    "writer.save()"
   ]
  },
  {
   "cell_type": "code",
   "execution_count": 55,
   "metadata": {},
   "outputs": [],
   "source": []
  },
  {
   "cell_type": "code",
   "execution_count": null,
   "metadata": {},
   "outputs": [],
   "source": []
  }
 ]
}