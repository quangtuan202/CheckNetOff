{
 "metadata": {
  "language_info": {
   "codemirror_mode": {
    "name": "ipython",
    "version": 3
   },
   "file_extension": ".py",
   "mimetype": "text/x-python",
   "name": "python",
   "nbconvert_exporter": "python",
   "pygments_lexer": "ipython3",
   "version": "3.8.6-final"
  },
  "orig_nbformat": 2,
  "kernelspec": {
   "name": "Python 3.8.6 64-bit",
   "display_name": "Python 3.8.6 64-bit",
   "metadata": {
    "interpreter": {
     "hash": "69700b912d52457d5d425fd7444095c7fdc96b20778d2043c850c2d46332b59c"
    }
   }
  }
 },
 "nbformat": 4,
 "nbformat_minor": 2,
 "cells": [
  {
   "cell_type": "code",
   "execution_count": 122,
   "metadata": {
    "tags": []
   },
   "outputs": [
    {
     "output_type": "stream",
     "name": "stderr",
     "text": "Exception in Tkinter callback\nTraceback (most recent call last):\n  File \"C:\\Program Files\\WindowsApps\\PythonSoftwareFoundation.Python.3.8_3.8.1776.0_x64__qbz5n2kfra8p0\\lib\\tkinter\\__init__.py\", line 1883, in __call__\n    return self.func(*args)\n  File \"<ipython-input-122-1b000511ba27>\", line 137, in click_execute\n    dfAcc.fillna(value=values, inplace=True)\nTypeError: fillna() missing 1 required positional argument: 'self'\n"
    }
   ],
   "source": [
    "import tkinter as tk\n",
    "from tkinter import ttk\n",
    "from tkinter import filedialog as fd\n",
    "from tkinter import filedialog as fd\n",
    "from numpy.core.defchararray import startswith\n",
    "from numpy.core.numeric import outer\n",
    "import pyxlsb\n",
    "import pandas as pd\n",
    "import numpy as np\n",
    "import subprocess\n",
    "import numpy as np\n",
    "\n",
    "\n",
    "\n",
    "\n",
    "win = tk.Tk()\n",
    "win.title(\"Đối chiếu Paid list\")\n",
    "#-------------------------------------------------------------Declare global variables ------------------------------\n",
    "\n",
    "paidListFile = ''\n",
    "paidListFileUseCol=['Paid dated','Note','Currency','Amount']\n",
    "paidListFileUseColDataType={'Paid dated': np.datetime64, 'Note': object , 'Currency' : object, 'Amount': np.float64 }\n",
    "\n",
    "accFile = ''\n",
    "accFileUseCol=['Ngày chứng từ','Số đơn', 'Số đơn HT', 'Số đơn ĐT','Loại tiền', 'TK Nợ', 'TK Có', 'Số tiền', 'Số tiền VND']\n",
    "accFileUseColDataType={'Ngày chứng từ':np.datetime64,'TK Nợ':object,'Loại tiền': object, 'TK Có':object, 'Số tiền':np.float64, 'Số tiền VND':np.float64}\n",
    "savingFolder = ''\n",
    "#radPremiumOrOthers=''\n",
    "dfPaidList=pd.DataFrame\n",
    "dfAcc=pd.DataFrame\n",
    "dfAccFinal=pd.DataFrame\n",
    "dfPaidListFinal=pd.DataFrame\n",
    "dfPaidListGroupBy=pd.DataFrame\n",
    "\n",
    "#------------------------------------------------------------- Widget event handle------------------------------------\n",
    "\n",
    "\n",
    "def click_select_cpc():\n",
    "    global paidListFile\n",
    "    paidListFile = fd.askopenfilename()\n",
    "\n",
    "\n",
    "def click_select_acc():\n",
    "    global accFile\n",
    "    accFile = fd.askopenfilename()\n",
    "\n",
    "\n",
    "def click_save_file():\n",
    "    global savingFolder\n",
    "    savingFolder = fd.askdirectory()\n",
    "    #print(saving_folder)\n",
    "\n",
    "def button_open_saved_file_click():\n",
    "    subprocess.Popen([f\"{savingFolder}/{savingFileName.get()}.csv\"], shell=True)\n",
    "    win.destroy()\n",
    "\n",
    "#def rad_select_premium_click():\n",
    " #   global premium_or_claim\n",
    "  #  premium_or_claim = radPremiumOrOthers.get() # return 'premium'\n",
    "\n",
    "\n",
    "#def rad_select_claim_click():\n",
    " #   global premium_or_claim\n",
    "  #  premium_or_claim = radPremiumOrOthers.get() # return 'claim'\n",
    "\n",
    "def return_policy(soDonHachToan, soDonDoiTru, soDon, taiKhoanNo, taiKhoanCo):\n",
    "    if len(soDonHachToan) < 2 and len(soDonDoiTru) < 2:\n",
    "        return soDon\n",
    "    elif len(soDonHachToan) < 2 and len(soDon) < 2:\n",
    "        return soDonDoiTru\n",
    "    elif len(soDon) < 2 and len(soDonDoiTru) < 2:\n",
    "        return soDonHachToan\n",
    "    elif taiKhoanCo.startswith('112'): # TK no -> 'So don DT', TK co -> 'So don HT'\n",
    "        if len(soDonDoiTru)>2:\n",
    "            return soDonDoiTru\n",
    "        else:\n",
    "            return soDon\n",
    "    elif taiKhoanNo.startswith('112'): # TK no -> 'So don DT', TK co -> 'So don HT'\n",
    "        if len(soDonHachToan)>2:\n",
    "            return soDonHachToan\n",
    "        else:\n",
    "            return soDon\n",
    "    else:\n",
    "        return\n",
    "\n",
    "\n",
    "def return_account(taiKhoanNo,taiKhoanCo):\n",
    "    if taiKhoanNo.startswith('112'):\n",
    "        return taiKhoanNo\n",
    "    elif taiKhoanCo.startswith('112'):\n",
    "        return taiKhoanCo\n",
    "    else:\n",
    "        return 'TaiKhoanKhac'\n",
    "\n",
    "\n",
    "def return_account_du(taiKhoanNo,taiKhoanCo):\n",
    "    if taiKhoanNo.startswith('112'):\n",
    "        return taiKhoanCo\n",
    "    elif taiKhoanCo.startswith('112'):\n",
    "        return taiKhoanNo\n",
    "    else:\n",
    "        return 'TaiKhoanKhac'\n",
    "\n",
    "def return_amount(taiKHoanNo,taiKhoanCo,soTien):\n",
    "    if taiKHoanNo.startswith('112'):\n",
    "        return soTien\n",
    "    elif taiKhoanCo.startswith('112'):\n",
    "        return -soTien\n",
    "    else:\n",
    "        return 0\n",
    "\n",
    "\n",
    "\n",
    "def click_execute():\n",
    "    from tkinter import messagebox as msg\n",
    "    global dfAccFinal\n",
    "    global dfPaidListFinal\n",
    "    global dfPaidList\n",
    "    global dfAcc\n",
    "    global dfPaidListGroupBy\n",
    "    name=['No','Paid dated','Client Name','Amount','Currency','Type','Bank/Cash','Note','Place number']\n",
    "    try:\n",
    "        if paidListFile.endswith('xlsb'):\n",
    "            dfPaidList = pd.read_excel(paidListFile, usecols=paidListFileUseCol,sheet_name='Claim paid', skiprows=3,header=None,names=name,engine='pyxlsb')\n",
    "        else:\n",
    "            dfPaidList = pd.read_excel(paidListFile, usecols=paidListFileUseCol,sheet_name='Claim paid', skiprows=3,header=None,names=name)\n",
    "                  \n",
    "        if accFile.endswith('xlsb'):\n",
    "            dfAcc = pd.read_excel(accFile,usecols=accFileUseCol,skiprows=6,dtype=accFileUseColDataType, engine='pyxlsb')\n",
    "        else:\n",
    "            dfAcc = pd.read_excel(accFile,usecols=accFileUseCol,skiprows=6,dtype=accFileUseColDataType)\n",
    "    except:\n",
    "        msg.showerror(\"Error\", \"Only Excel files or CSV files are supported\")\n",
    "        pass\n",
    "\n",
    "    values={'Số đơn':'0', 'Số đơn HT':'0','Số đơn ĐT':'0'}\n",
    "    dfAcc.fillna(value=values, inplace=True)\n",
    "    dfAcc['Policy']=dfAcc.apply(lambda x: return_policy(x['Số đơn'], x['Số đơn HT'], x['Số đơn ĐT'], x['TK Nợ'], x['TK Có']), axis=1)\n",
    "    dfAcc['Tai khoan']=dfAcc.apply(lambda x: return_account(x['TK Nợ'], x['TK Có']), axis=1)  \n",
    "    dfAcc['Tai khoan doi ung']=dfAcc.apply(lambda x: return_account_du(x['TK Nợ'], x['TK Có']), axis=1)  \n",
    "    dfAcc['So tien NT']=dfAcc.apply(lambda x: return_amount(x['TK Nợ'], x['TK Có'],x['Số tiền']), axis=1) \n",
    "    dfAcc['So tien VND']=dfAcc.apply(lambda x: return_amount(x['TK Nợ'], x['TK Có'],x['Số tiền VND']), axis=1) \n",
    "    dfAccFinal=dfAcc.loc[(dfAcc['Tai khoan']!='TaiKhoanKhac') & (dfAcc['Tai khoan doi ung'].str.startswith('624')),['Ngày chứng từ','Policy','Loại tiền','So tien NT']] \n",
    "    dfAccFinalGroupby=dfAccFinal.groupby(['Ngày chứng từ','Policy','Loại tiền'],as_index=False)['So tien NT'].sum()\n",
    "    a=np.datetime64('2000-01-01')\n",
    "    values={'Paid dated':a ,'Note': '0','Currency':'0','Amount':0}\n",
    "    dfPaidList=dfPaidList.fillna(value=values)\n",
    "    dfPaidListGroupBy=dfPaidList.groupby(['Paid dated','Note','Currency'],as_index=False)['Amount'].sum()\n",
    "    dfmerge=dfPaidListGroupBy.merge(dfAccFinalGroupby,how='outer',left_on=['Paid dated','Note','Currency'],right_on=['Ngày chứng từ','Policy','Loại tiền'],suffixes=['PL','ACC'])\n",
    "\n",
    "\n",
    "\n",
    "    #-------------------------------------------------------------------------------------\n",
    "\n",
    "\n",
    "    #df_merge_all.to_csv(f\"{saving_folder}/{saving_file_name.get()}.csv\", encoding=\"utf-8-sig\", index=False)\n",
    "    # df_merge.to_csv(c+r'/result5.csv',encoding=\"utf-8-sig\",index=False)\n",
    "    msg.showinfo(\"Information\", \"Đã hoàn thành\")\n",
    "    win.destroy()  # Close window after execution\n",
    "\n",
    "\n",
    "# ----------------------------------------------------------------- Widget------------------------------------------------\n",
    "\n",
    "#radPremiumOrOthers = tk.StringVar()\n",
    "\n",
    "\n",
    "#rad_select_premium = ttk.Radiobutton(win, text='Premium Paid', width=30, value='premium', variable=radPremiumOrOthers, command=rad_select_premium_click)\n",
    "#rad_select_premium.grid(column=0, row=0)\n",
    "\n",
    "#rad_select_claim = ttk.Radiobutton(win, text='Claim paid', width=30, value='claim', variable=radPremiumOrOthers, command=rad_select_claim_click)\n",
    "#rad_select_claim.grid(column=1, row=0)\n",
    "\n",
    "ttk.Label(win, text=\"Chọn file Paid list\", width=20).grid(column=0, row=1)\n",
    "button1 = ttk.Button(win, text=\"Paid list\", command=click_select_cpc)\n",
    "button1.grid(column=1, row=1)\n",
    "\n",
    "ttk.Label(win, text=\"Chọn file CTGS\", width=20).grid(column=0, row=2)\n",
    "button2 = ttk.Button(win, text=\"CTGS\", command=click_select_acc)\n",
    "button2.grid(column=1, row=2)\n",
    "\n",
    "ttk.Label(win, text=\"Chọn thư mục lưu file\", width=20).grid(column=0, row=3)\n",
    "button2 = ttk.Button(win, text=\"Folder\", command=click_save_file)\n",
    "button2.grid(column=1, row=3)\n",
    "\n",
    "ttk.Label(win, text=\"Nhập tên file\", width=20).grid(column=0, row=4)\n",
    "savingFileName = ttk.Entry(win, width=10)\n",
    "savingFileName.grid(column=1, row=4)\n",
    "\n",
    "ttk.Label(win, text=\"Xử lý số liệu\", width=20).grid(column=0, row=5)\n",
    "button3 = ttk.Button(win, text=\"Run\", command=click_execute)\n",
    "button3.grid(column=1, row=5)\n",
    "\n",
    "label_open_saved_file = ttk.Label(win, text=\"Open saved file\", width=30).grid(column=0, row=6)\n",
    "button_open_saved_file = ttk.Button(win, text=\"Open saved file\", command=button_open_saved_file_click)\n",
    "button_open_saved_file.grid(column=1, row=6)\n",
    "\n",
    "\n",
    "\n",
    "\n",
    "win.mainloop()"
   ]
  },
  {
   "cell_type": "code",
   "execution_count": 59,
   "metadata": {},
   "outputs": [],
   "source": [
    "values={'Paid dated':a ,'Note': '0','Currency':'0','Amount':0}\n",
    "dfPaidList=dfPaidList.fillna(value=values)"
   ]
  },
  {
   "cell_type": "code",
   "execution_count": 60,
   "metadata": {},
   "outputs": [
    {
     "output_type": "execute_result",
     "data": {
      "text/plain": "    Paid dated        Amount Currency  \\\n0   2020-09-01  2.400000e+04      VND   \n1   2020-09-01  1.725500e+08      VND   \n2   2020-09-01  2.466281e+06      VND   \n3   2020-09-01  4.630497e+06      VND   \n4   2020-09-01  5.564955e+07      VND   \n..         ...           ...      ...   \n260 2000-01-01  0.000000e+00        0   \n261 2000-01-01  0.000000e+00        0   \n262 2000-01-01  2.151927e+10      VND   \n263 2000-01-01  1.174838e+06      USD   \n264 2000-01-01  0.000000e+00      JPY   \n\n                                                  Note  \n0                  hoa hong dai ly t7/2020 inv 0004140  \n1             UIC Hoàn phí bảo hiểm PAR190195HYD.CEN01  \n2           tien boi thuong WCI200163HYD.003.CL01.BT.3  \n3          tien boi thuong MCI2001HYD.06-002.CL01.BT.2  \n4    UIC Giảm phí bảo hiểm theo điều khoản \"No Clai...  \n..                                                 ...  \n260                                                  0  \n261                                                  0  \n262                                                  0  \n263                                                  0  \n264                                                  0  \n\n[265 rows x 4 columns]",
      "text/html": "<div>\n<style scoped>\n    .dataframe tbody tr th:only-of-type {\n        vertical-align: middle;\n    }\n\n    .dataframe tbody tr th {\n        vertical-align: top;\n    }\n\n    .dataframe thead th {\n        text-align: right;\n    }\n</style>\n<table border=\"1\" class=\"dataframe\">\n  <thead>\n    <tr style=\"text-align: right;\">\n      <th></th>\n      <th>Paid dated</th>\n      <th>Amount</th>\n      <th>Currency</th>\n      <th>Note</th>\n    </tr>\n  </thead>\n  <tbody>\n    <tr>\n      <th>0</th>\n      <td>2020-09-01</td>\n      <td>2.400000e+04</td>\n      <td>VND</td>\n      <td>hoa hong dai ly t7/2020 inv 0004140</td>\n    </tr>\n    <tr>\n      <th>1</th>\n      <td>2020-09-01</td>\n      <td>1.725500e+08</td>\n      <td>VND</td>\n      <td>UIC Hoàn phí bảo hiểm PAR190195HYD.CEN01</td>\n    </tr>\n    <tr>\n      <th>2</th>\n      <td>2020-09-01</td>\n      <td>2.466281e+06</td>\n      <td>VND</td>\n      <td>tien boi thuong WCI200163HYD.003.CL01.BT.3</td>\n    </tr>\n    <tr>\n      <th>3</th>\n      <td>2020-09-01</td>\n      <td>4.630497e+06</td>\n      <td>VND</td>\n      <td>tien boi thuong MCI2001HYD.06-002.CL01.BT.2</td>\n    </tr>\n    <tr>\n      <th>4</th>\n      <td>2020-09-01</td>\n      <td>5.564955e+07</td>\n      <td>VND</td>\n      <td>UIC Giảm phí bảo hiểm theo điều khoản \"No Clai...</td>\n    </tr>\n    <tr>\n      <th>...</th>\n      <td>...</td>\n      <td>...</td>\n      <td>...</td>\n      <td>...</td>\n    </tr>\n    <tr>\n      <th>260</th>\n      <td>2000-01-01</td>\n      <td>0.000000e+00</td>\n      <td>0</td>\n      <td>0</td>\n    </tr>\n    <tr>\n      <th>261</th>\n      <td>2000-01-01</td>\n      <td>0.000000e+00</td>\n      <td>0</td>\n      <td>0</td>\n    </tr>\n    <tr>\n      <th>262</th>\n      <td>2000-01-01</td>\n      <td>2.151927e+10</td>\n      <td>VND</td>\n      <td>0</td>\n    </tr>\n    <tr>\n      <th>263</th>\n      <td>2000-01-01</td>\n      <td>1.174838e+06</td>\n      <td>USD</td>\n      <td>0</td>\n    </tr>\n    <tr>\n      <th>264</th>\n      <td>2000-01-01</td>\n      <td>0.000000e+00</td>\n      <td>JPY</td>\n      <td>0</td>\n    </tr>\n  </tbody>\n</table>\n<p>265 rows × 4 columns</p>\n</div>"
     },
     "metadata": {},
     "execution_count": 60
    }
   ],
   "source": [
    "dfPaidList"
   ]
  },
  {
   "cell_type": "code",
   "execution_count": 55,
   "metadata": {},
   "outputs": [
    {
     "output_type": "error",
     "ename": "TypeError",
     "evalue": "only integer scalar arrays can be converted to a scalar index",
     "traceback": [
      "\u001b[1;31m---------------------------------------------------------------------------\u001b[0m",
      "\u001b[1;31mTypeError\u001b[0m                                 Traceback (most recent call last)",
      "\u001b[1;32m<ipython-input-55-f7c610a6d42d>\u001b[0m in \u001b[0;36m<module>\u001b[1;34m\u001b[0m\n\u001b[0;32m      1\u001b[0m \u001b[1;32mimport\u001b[0m \u001b[0mnumpy\u001b[0m \u001b[1;32mas\u001b[0m \u001b[0mnp\u001b[0m\u001b[1;33m\u001b[0m\u001b[1;33m\u001b[0m\u001b[0m\n\u001b[0;32m      2\u001b[0m \u001b[0ma\u001b[0m\u001b[1;33m=\u001b[0m\u001b[0mnp\u001b[0m\u001b[1;33m.\u001b[0m\u001b[0mdatetime64\u001b[0m\u001b[1;33m(\u001b[0m\u001b[1;34m'2000-01-01'\u001b[0m\u001b[1;33m)\u001b[0m\u001b[1;33m\u001b[0m\u001b[1;33m\u001b[0m\u001b[0m\n\u001b[1;32m----> 3\u001b[1;33m \u001b[0mdfPaidListFinal\u001b[0m\u001b[1;33m[\u001b[0m\u001b[1;34m'Ngay'\u001b[0m\u001b[1;33m]\u001b[0m\u001b[1;33m=\u001b[0m\u001b[0mdfPaidListFinal\u001b[0m\u001b[1;33m[\u001b[0m\u001b[1;34m'Ngay'\u001b[0m\u001b[1;33m]\u001b[0m\u001b[1;33m.\u001b[0m\u001b[0mfillna\u001b[0m\u001b[1;33m(\u001b[0m\u001b[0ma\u001b[0m\u001b[1;33m)\u001b[0m\u001b[1;33m\u001b[0m\u001b[1;33m\u001b[0m\u001b[0m\n\u001b[0m",
      "\u001b[1;32m~\\AppData\\Local\\Packages\\PythonSoftwareFoundation.Python.3.8_qbz5n2kfra8p0\\LocalCache\\local-packages\\Python38\\site-packages\\pandas\\core\\frame.py\u001b[0m in \u001b[0;36m__getitem__\u001b[1;34m(self, key)\u001b[0m\n\u001b[0;32m   2774\u001b[0m                 \u001b[1;32mif\u001b[0m \u001b[0mself\u001b[0m\u001b[1;33m.\u001b[0m\u001b[0mcolumns\u001b[0m\u001b[1;33m.\u001b[0m\u001b[0mnlevels\u001b[0m \u001b[1;33m>\u001b[0m \u001b[1;36m1\u001b[0m\u001b[1;33m:\u001b[0m\u001b[1;33m\u001b[0m\u001b[1;33m\u001b[0m\u001b[0m\n\u001b[0;32m   2775\u001b[0m                     \u001b[1;32mreturn\u001b[0m \u001b[0mself\u001b[0m\u001b[1;33m.\u001b[0m\u001b[0m_getitem_multilevel\u001b[0m\u001b[1;33m(\u001b[0m\u001b[0mkey\u001b[0m\u001b[1;33m)\u001b[0m\u001b[1;33m\u001b[0m\u001b[1;33m\u001b[0m\u001b[0m\n\u001b[1;32m-> 2776\u001b[1;33m                 \u001b[1;32mreturn\u001b[0m \u001b[0mself\u001b[0m\u001b[1;33m.\u001b[0m\u001b[0m_get_item_cache\u001b[0m\u001b[1;33m(\u001b[0m\u001b[0mkey\u001b[0m\u001b[1;33m)\u001b[0m\u001b[1;33m\u001b[0m\u001b[1;33m\u001b[0m\u001b[0m\n\u001b[0m\u001b[0;32m   2777\u001b[0m \u001b[1;33m\u001b[0m\u001b[0m\n\u001b[0;32m   2778\u001b[0m         \u001b[1;31m# Do we have a slicer (on rows)?\u001b[0m\u001b[1;33m\u001b[0m\u001b[1;33m\u001b[0m\u001b[1;33m\u001b[0m\u001b[0m\n",
      "\u001b[1;32m~\\AppData\\Local\\Packages\\PythonSoftwareFoundation.Python.3.8_qbz5n2kfra8p0\\LocalCache\\local-packages\\Python38\\site-packages\\pandas\\core\\generic.py\u001b[0m in \u001b[0;36m_get_item_cache\u001b[1;34m(self, item)\u001b[0m\n\u001b[0;32m   3584\u001b[0m         \u001b[0mres\u001b[0m \u001b[1;33m=\u001b[0m \u001b[0mcache\u001b[0m\u001b[1;33m.\u001b[0m\u001b[0mget\u001b[0m\u001b[1;33m(\u001b[0m\u001b[0mitem\u001b[0m\u001b[1;33m)\u001b[0m\u001b[1;33m\u001b[0m\u001b[1;33m\u001b[0m\u001b[0m\n\u001b[0;32m   3585\u001b[0m         \u001b[1;32mif\u001b[0m \u001b[0mres\u001b[0m \u001b[1;32mis\u001b[0m \u001b[1;32mNone\u001b[0m\u001b[1;33m:\u001b[0m\u001b[1;33m\u001b[0m\u001b[1;33m\u001b[0m\u001b[0m\n\u001b[1;32m-> 3586\u001b[1;33m             \u001b[0mvalues\u001b[0m \u001b[1;33m=\u001b[0m \u001b[0mself\u001b[0m\u001b[1;33m.\u001b[0m\u001b[0m_data\u001b[0m\u001b[1;33m.\u001b[0m\u001b[0mget\u001b[0m\u001b[1;33m(\u001b[0m\u001b[0mitem\u001b[0m\u001b[1;33m)\u001b[0m\u001b[1;33m\u001b[0m\u001b[1;33m\u001b[0m\u001b[0m\n\u001b[0m\u001b[0;32m   3587\u001b[0m             \u001b[0mres\u001b[0m \u001b[1;33m=\u001b[0m \u001b[0mself\u001b[0m\u001b[1;33m.\u001b[0m\u001b[0m_box_item_values\u001b[0m\u001b[1;33m(\u001b[0m\u001b[0mitem\u001b[0m\u001b[1;33m,\u001b[0m \u001b[0mvalues\u001b[0m\u001b[1;33m)\u001b[0m\u001b[1;33m\u001b[0m\u001b[1;33m\u001b[0m\u001b[0m\n\u001b[0;32m   3588\u001b[0m             \u001b[0mcache\u001b[0m\u001b[1;33m[\u001b[0m\u001b[0mitem\u001b[0m\u001b[1;33m]\u001b[0m \u001b[1;33m=\u001b[0m \u001b[0mres\u001b[0m\u001b[1;33m\u001b[0m\u001b[1;33m\u001b[0m\u001b[0m\n",
      "\u001b[1;32m~\\AppData\\Local\\Packages\\PythonSoftwareFoundation.Python.3.8_qbz5n2kfra8p0\\LocalCache\\local-packages\\Python38\\site-packages\\pandas\\core\\internals\\managers.py\u001b[0m in \u001b[0;36mget\u001b[1;34m(self, item)\u001b[0m\n\u001b[0;32m    966\u001b[0m                         \u001b[1;32mraise\u001b[0m \u001b[0mValueError\u001b[0m\u001b[1;33m(\u001b[0m\u001b[1;34m\"cannot label index with a null key\"\u001b[0m\u001b[1;33m)\u001b[0m\u001b[1;33m\u001b[0m\u001b[1;33m\u001b[0m\u001b[0m\n\u001b[0;32m    967\u001b[0m \u001b[1;33m\u001b[0m\u001b[0m\n\u001b[1;32m--> 968\u001b[1;33m             \u001b[1;32mreturn\u001b[0m \u001b[0mself\u001b[0m\u001b[1;33m.\u001b[0m\u001b[0miget\u001b[0m\u001b[1;33m(\u001b[0m\u001b[0mloc\u001b[0m\u001b[1;33m)\u001b[0m\u001b[1;33m\u001b[0m\u001b[1;33m\u001b[0m\u001b[0m\n\u001b[0m\u001b[0;32m    969\u001b[0m         \u001b[1;32melse\u001b[0m\u001b[1;33m:\u001b[0m\u001b[1;33m\u001b[0m\u001b[1;33m\u001b[0m\u001b[0m\n\u001b[0;32m    970\u001b[0m \u001b[1;33m\u001b[0m\u001b[0m\n",
      "\u001b[1;32m~\\AppData\\Local\\Packages\\PythonSoftwareFoundation.Python.3.8_qbz5n2kfra8p0\\LocalCache\\local-packages\\Python38\\site-packages\\pandas\\core\\internals\\managers.py\u001b[0m in \u001b[0;36miget\u001b[1;34m(self, i)\u001b[0m\n\u001b[0;32m    983\u001b[0m         \u001b[0mOtherwise\u001b[0m \u001b[1;32mreturn\u001b[0m \u001b[1;32mas\u001b[0m \u001b[0ma\u001b[0m \u001b[0mndarray\u001b[0m\u001b[1;33m\u001b[0m\u001b[1;33m\u001b[0m\u001b[0m\n\u001b[0;32m    984\u001b[0m         \"\"\"\n\u001b[1;32m--> 985\u001b[1;33m         \u001b[0mblock\u001b[0m \u001b[1;33m=\u001b[0m \u001b[0mself\u001b[0m\u001b[1;33m.\u001b[0m\u001b[0mblocks\u001b[0m\u001b[1;33m[\u001b[0m\u001b[0mself\u001b[0m\u001b[1;33m.\u001b[0m\u001b[0m_blknos\u001b[0m\u001b[1;33m[\u001b[0m\u001b[0mi\u001b[0m\u001b[1;33m]\u001b[0m\u001b[1;33m]\u001b[0m\u001b[1;33m\u001b[0m\u001b[1;33m\u001b[0m\u001b[0m\n\u001b[0m\u001b[0;32m    986\u001b[0m         \u001b[0mvalues\u001b[0m \u001b[1;33m=\u001b[0m \u001b[0mblock\u001b[0m\u001b[1;33m.\u001b[0m\u001b[0miget\u001b[0m\u001b[1;33m(\u001b[0m\u001b[0mself\u001b[0m\u001b[1;33m.\u001b[0m\u001b[0m_blklocs\u001b[0m\u001b[1;33m[\u001b[0m\u001b[0mi\u001b[0m\u001b[1;33m]\u001b[0m\u001b[1;33m)\u001b[0m\u001b[1;33m\u001b[0m\u001b[1;33m\u001b[0m\u001b[0m\n\u001b[0;32m    987\u001b[0m \u001b[1;33m\u001b[0m\u001b[0m\n",
      "\u001b[1;31mTypeError\u001b[0m: only integer scalar arrays can be converted to a scalar index"
     ]
    }
   ],
   "source": [
    "import numpy as np\n",
    "a=np.datetime64('2000-01-01')\n",
    "dfPaidListFinal['Ngay']=dfPaidListFinal['Ngay'].fillna(a)"
   ]
  },
  {
   "cell_type": "code",
   "execution_count": 25,
   "metadata": {},
   "outputs": [
    {
     "output_type": "execute_result",
     "data": {
      "text/plain": "        Ngay\n0 2020-09-01\n1 2020-09-01\n2 2020-09-01\n3 2020-09-01\n4 2020-09-01",
      "text/html": "<div>\n<style scoped>\n    .dataframe tbody tr th:only-of-type {\n        vertical-align: middle;\n    }\n\n    .dataframe tbody tr th {\n        vertical-align: top;\n    }\n\n    .dataframe thead tr th {\n        text-align: left;\n    }\n</style>\n<table border=\"1\" class=\"dataframe\">\n  <thead>\n    <tr>\n      <th></th>\n      <th>Ngay</th>\n    </tr>\n  </thead>\n  <tbody>\n    <tr>\n      <th>0</th>\n      <td>2020-09-01</td>\n    </tr>\n    <tr>\n      <th>1</th>\n      <td>2020-09-01</td>\n    </tr>\n    <tr>\n      <th>2</th>\n      <td>2020-09-01</td>\n    </tr>\n    <tr>\n      <th>3</th>\n      <td>2020-09-01</td>\n    </tr>\n    <tr>\n      <th>4</th>\n      <td>2020-09-01</td>\n    </tr>\n  </tbody>\n</table>\n</div>"
     },
     "metadata": {},
     "execution_count": 25
    }
   ],
   "source": [
    "b.head()"
   ]
  },
  {
   "cell_type": "code",
   "execution_count": 27,
   "metadata": {},
   "outputs": [],
   "source": [
    "import numpy as np\n",
    "a=np.datetime64('2000-01-01')\n",
    "b=b.fillna(a)"
   ]
  },
  {
   "cell_type": "code",
   "execution_count": 28,
   "metadata": {},
   "outputs": [
    {
     "output_type": "execute_result",
     "data": {
      "text/plain": "          Ngay\n0   2020-09-01\n1   2020-09-01\n2   2020-09-01\n3   2020-09-01\n4   2020-09-01\n..         ...\n260 2000-01-01\n261 2000-01-01\n262 2000-01-01\n263 2000-01-01\n264 2000-01-01\n\n[265 rows x 1 columns]",
      "text/html": "<div>\n<style scoped>\n    .dataframe tbody tr th:only-of-type {\n        vertical-align: middle;\n    }\n\n    .dataframe tbody tr th {\n        vertical-align: top;\n    }\n\n    .dataframe thead tr th {\n        text-align: left;\n    }\n</style>\n<table border=\"1\" class=\"dataframe\">\n  <thead>\n    <tr>\n      <th></th>\n      <th>Ngay</th>\n    </tr>\n  </thead>\n  <tbody>\n    <tr>\n      <th>0</th>\n      <td>2020-09-01</td>\n    </tr>\n    <tr>\n      <th>1</th>\n      <td>2020-09-01</td>\n    </tr>\n    <tr>\n      <th>2</th>\n      <td>2020-09-01</td>\n    </tr>\n    <tr>\n      <th>3</th>\n      <td>2020-09-01</td>\n    </tr>\n    <tr>\n      <th>4</th>\n      <td>2020-09-01</td>\n    </tr>\n    <tr>\n      <th>...</th>\n      <td>...</td>\n    </tr>\n    <tr>\n      <th>260</th>\n      <td>2000-01-01</td>\n    </tr>\n    <tr>\n      <th>261</th>\n      <td>2000-01-01</td>\n    </tr>\n    <tr>\n      <th>262</th>\n      <td>2000-01-01</td>\n    </tr>\n    <tr>\n      <th>263</th>\n      <td>2000-01-01</td>\n    </tr>\n    <tr>\n      <th>264</th>\n      <td>2000-01-01</td>\n    </tr>\n  </tbody>\n</table>\n<p>265 rows × 1 columns</p>\n</div>"
     },
     "metadata": {},
     "execution_count": 28
    }
   ],
   "source": [
    "b"
   ]
  },
  {
   "cell_type": "code",
   "execution_count": 37,
   "metadata": {},
   "outputs": [],
   "source": [
    "\n",
    "c=['Paid dated','Note','Currency','Amount']\n",
    "d={'Paid dated': np.datetime64, 'Note': object , 'Currency' : object, 'Amount': np.float64 }\n",
    "name=['No','Paid dated','Client Name','Amount','Currency','Type','Bank/Cash','Note','Place number']\n",
    "dfa=pd.read_excel(\"C:/Users/tuandq/Desktop/TEST/2020_09_30 - Claim, commission and other expense paid list.xlsx\",sheet_name='Claim paid',skiprows=3,usecols=c,dtype=d,header=None, names=name)"
   ]
  },
  {
   "cell_type": "code",
   "execution_count": 39,
   "metadata": {},
   "outputs": [],
   "source": [
    "dfa=dfa.loc[:,['Paid dated','Note','Currency','Amount']]"
   ]
  },
  {
   "cell_type": "code",
   "execution_count": 43,
   "metadata": {},
   "outputs": [],
   "source": [
    "import numpy as np\n",
    "a=np.datetime64('2000-01-01')\n",
    "dfa['Paid dated']=dfa['Paid dated'].fillna(a)"
   ]
  },
  {
   "cell_type": "code",
   "execution_count": 54,
   "metadata": {},
   "outputs": [
    {
     "output_type": "execute_result",
     "data": {
      "text/plain": "Paid dated    datetime64[ns]\nNote                  object\nCurrency              object\nAmount               float64\ndtype: object"
     },
     "metadata": {},
     "execution_count": 54
    }
   ],
   "source": [
    "dfa.dtypes"
   ]
  },
  {
   "cell_type": "code",
   "execution_count": 58,
   "metadata": {},
   "outputs": [],
   "source": [
    "dfPaidList['Paid dated']=dfPaidList['Paid dated'].fillna(a)"
   ]
  },
  {
   "cell_type": "code",
   "execution_count": 66,
   "metadata": {},
   "outputs": [],
   "source": [
    "dfPaidListFinal=dfPaidList.loc[:,['Paid dated','Note','Currency','Amount']].reset_index(drop=True)\n"
   ]
  },
  {
   "cell_type": "code",
   "execution_count": 67,
   "metadata": {},
   "outputs": [
    {
     "output_type": "execute_result",
     "data": {
      "text/plain": "    Paid dated                                               Note Currency  \\\n0   2020-09-01                hoa hong dai ly t7/2020 inv 0004140      VND   \n1   2020-09-01           UIC Hoàn phí bảo hiểm PAR190195HYD.CEN01      VND   \n2   2020-09-01         tien boi thuong WCI200163HYD.003.CL01.BT.3      VND   \n3   2020-09-01        tien boi thuong MCI2001HYD.06-002.CL01.BT.2      VND   \n4   2020-09-01  UIC Giảm phí bảo hiểm theo điều khoản \"No Clai...      VND   \n..         ...                                                ...      ...   \n260 2000-01-01                                                  0        0   \n261 2000-01-01                                                  0        0   \n262 2000-01-01                                                  0      VND   \n263 2000-01-01                                                  0      USD   \n264 2000-01-01                                                  0      JPY   \n\n           Amount  \n0    2.400000e+04  \n1    1.725500e+08  \n2    2.466281e+06  \n3    4.630497e+06  \n4    5.564955e+07  \n..            ...  \n260  0.000000e+00  \n261  0.000000e+00  \n262  2.151927e+10  \n263  1.174838e+06  \n264  0.000000e+00  \n\n[265 rows x 4 columns]",
      "text/html": "<div>\n<style scoped>\n    .dataframe tbody tr th:only-of-type {\n        vertical-align: middle;\n    }\n\n    .dataframe tbody tr th {\n        vertical-align: top;\n    }\n\n    .dataframe thead th {\n        text-align: right;\n    }\n</style>\n<table border=\"1\" class=\"dataframe\">\n  <thead>\n    <tr style=\"text-align: right;\">\n      <th></th>\n      <th>Paid dated</th>\n      <th>Note</th>\n      <th>Currency</th>\n      <th>Amount</th>\n    </tr>\n  </thead>\n  <tbody>\n    <tr>\n      <th>0</th>\n      <td>2020-09-01</td>\n      <td>hoa hong dai ly t7/2020 inv 0004140</td>\n      <td>VND</td>\n      <td>2.400000e+04</td>\n    </tr>\n    <tr>\n      <th>1</th>\n      <td>2020-09-01</td>\n      <td>UIC Hoàn phí bảo hiểm PAR190195HYD.CEN01</td>\n      <td>VND</td>\n      <td>1.725500e+08</td>\n    </tr>\n    <tr>\n      <th>2</th>\n      <td>2020-09-01</td>\n      <td>tien boi thuong WCI200163HYD.003.CL01.BT.3</td>\n      <td>VND</td>\n      <td>2.466281e+06</td>\n    </tr>\n    <tr>\n      <th>3</th>\n      <td>2020-09-01</td>\n      <td>tien boi thuong MCI2001HYD.06-002.CL01.BT.2</td>\n      <td>VND</td>\n      <td>4.630497e+06</td>\n    </tr>\n    <tr>\n      <th>4</th>\n      <td>2020-09-01</td>\n      <td>UIC Giảm phí bảo hiểm theo điều khoản \"No Clai...</td>\n      <td>VND</td>\n      <td>5.564955e+07</td>\n    </tr>\n    <tr>\n      <th>...</th>\n      <td>...</td>\n      <td>...</td>\n      <td>...</td>\n      <td>...</td>\n    </tr>\n    <tr>\n      <th>260</th>\n      <td>2000-01-01</td>\n      <td>0</td>\n      <td>0</td>\n      <td>0.000000e+00</td>\n    </tr>\n    <tr>\n      <th>261</th>\n      <td>2000-01-01</td>\n      <td>0</td>\n      <td>0</td>\n      <td>0.000000e+00</td>\n    </tr>\n    <tr>\n      <th>262</th>\n      <td>2000-01-01</td>\n      <td>0</td>\n      <td>VND</td>\n      <td>2.151927e+10</td>\n    </tr>\n    <tr>\n      <th>263</th>\n      <td>2000-01-01</td>\n      <td>0</td>\n      <td>USD</td>\n      <td>1.174838e+06</td>\n    </tr>\n    <tr>\n      <th>264</th>\n      <td>2000-01-01</td>\n      <td>0</td>\n      <td>JPY</td>\n      <td>0.000000e+00</td>\n    </tr>\n  </tbody>\n</table>\n<p>265 rows × 4 columns</p>\n</div>"
     },
     "metadata": {},
     "execution_count": 67
    }
   ],
   "source": [
    "dfPaidListFinal"
   ]
  },
  {
   "cell_type": "code",
   "execution_count": 68,
   "metadata": {},
   "outputs": [],
   "source": [
    "dfPaidListFinal.columns=[['Ngay','So don','Loai tien','So tien']]"
   ]
  },
  {
   "cell_type": "code",
   "execution_count": 72,
   "metadata": {},
   "outputs": [
    {
     "output_type": "execute_result",
     "data": {
      "text/plain": "Ngày chứng từ    datetime64[ns]\nPolicy                   object\nLoại tiền                object\nSo tien NT              float64\ndtype: object"
     },
     "metadata": {},
     "execution_count": 72
    }
   ],
   "source": [
    "\n",
    "dfAccF"
   ]
  },
  {
   "cell_type": "code",
   "execution_count": 69,
   "metadata": {},
   "outputs": [
    {
     "output_type": "error",
     "ename": "TypeError",
     "evalue": "only integer scalar arrays can be converted to a scalar index",
     "traceback": [
      "\u001b[1;31m---------------------------------------------------------------------------\u001b[0m",
      "\u001b[1;31mTypeError\u001b[0m                                 Traceback (most recent call last)",
      "\u001b[1;32m<ipython-input-69-c80a31c6c5ab>\u001b[0m in \u001b[0;36m<module>\u001b[1;34m\u001b[0m\n\u001b[1;32m----> 1\u001b[1;33m \u001b[0mdfPaidListFinal\u001b[0m\u001b[1;33m.\u001b[0m\u001b[0mgroupby\u001b[0m\u001b[1;33m(\u001b[0m\u001b[1;33m[\u001b[0m\u001b[1;34m'Ngay'\u001b[0m\u001b[1;33m,\u001b[0m\u001b[1;34m'So don'\u001b[0m\u001b[1;33m,\u001b[0m\u001b[1;34m'Loai tien'\u001b[0m\u001b[1;33m]\u001b[0m\u001b[1;33m)\u001b[0m\u001b[1;33m.\u001b[0m\u001b[0msum\u001b[0m\u001b[1;33m(\u001b[0m\u001b[1;33m)\u001b[0m\u001b[1;33m\u001b[0m\u001b[1;33m\u001b[0m\u001b[0m\n\u001b[0m",
      "\u001b[1;32m~\\AppData\\Local\\Packages\\PythonSoftwareFoundation.Python.3.8_qbz5n2kfra8p0\\LocalCache\\local-packages\\Python38\\site-packages\\pandas\\core\\frame.py\u001b[0m in \u001b[0;36mgroupby\u001b[1;34m(self, by, axis, level, as_index, sort, group_keys, squeeze, observed)\u001b[0m\n\u001b[0;32m   5799\u001b[0m         \u001b[0maxis\u001b[0m \u001b[1;33m=\u001b[0m \u001b[0mself\u001b[0m\u001b[1;33m.\u001b[0m\u001b[0m_get_axis_number\u001b[0m\u001b[1;33m(\u001b[0m\u001b[0maxis\u001b[0m\u001b[1;33m)\u001b[0m\u001b[1;33m\u001b[0m\u001b[1;33m\u001b[0m\u001b[0m\n\u001b[0;32m   5800\u001b[0m \u001b[1;33m\u001b[0m\u001b[0m\n\u001b[1;32m-> 5801\u001b[1;33m         return groupby_generic.DataFrameGroupBy(\n\u001b[0m\u001b[0;32m   5802\u001b[0m             \u001b[0mobj\u001b[0m\u001b[1;33m=\u001b[0m\u001b[0mself\u001b[0m\u001b[1;33m,\u001b[0m\u001b[1;33m\u001b[0m\u001b[1;33m\u001b[0m\u001b[0m\n\u001b[0;32m   5803\u001b[0m             \u001b[0mkeys\u001b[0m\u001b[1;33m=\u001b[0m\u001b[0mby\u001b[0m\u001b[1;33m,\u001b[0m\u001b[1;33m\u001b[0m\u001b[1;33m\u001b[0m\u001b[0m\n",
      "\u001b[1;32m~\\AppData\\Local\\Packages\\PythonSoftwareFoundation.Python.3.8_qbz5n2kfra8p0\\LocalCache\\local-packages\\Python38\\site-packages\\pandas\\core\\groupby\\groupby.py\u001b[0m in \u001b[0;36m__init__\u001b[1;34m(self, obj, keys, axis, level, grouper, exclusions, selection, as_index, sort, group_keys, squeeze, observed, mutated)\u001b[0m\n\u001b[0;32m    400\u001b[0m             \u001b[1;32mfrom\u001b[0m \u001b[0mpandas\u001b[0m\u001b[1;33m.\u001b[0m\u001b[0mcore\u001b[0m\u001b[1;33m.\u001b[0m\u001b[0mgroupby\u001b[0m\u001b[1;33m.\u001b[0m\u001b[0mgrouper\u001b[0m \u001b[1;32mimport\u001b[0m \u001b[0mget_grouper\u001b[0m\u001b[1;33m\u001b[0m\u001b[1;33m\u001b[0m\u001b[0m\n\u001b[0;32m    401\u001b[0m \u001b[1;33m\u001b[0m\u001b[0m\n\u001b[1;32m--> 402\u001b[1;33m             grouper, exclusions, obj = get_grouper(\n\u001b[0m\u001b[0;32m    403\u001b[0m                 \u001b[0mobj\u001b[0m\u001b[1;33m,\u001b[0m\u001b[1;33m\u001b[0m\u001b[1;33m\u001b[0m\u001b[0m\n\u001b[0;32m    404\u001b[0m                 \u001b[0mkeys\u001b[0m\u001b[1;33m,\u001b[0m\u001b[1;33m\u001b[0m\u001b[1;33m\u001b[0m\u001b[0m\n",
      "\u001b[1;32m~\\AppData\\Local\\Packages\\PythonSoftwareFoundation.Python.3.8_qbz5n2kfra8p0\\LocalCache\\local-packages\\Python38\\site-packages\\pandas\\core\\groupby\\grouper.py\u001b[0m in \u001b[0;36mget_grouper\u001b[1;34m(obj, key, axis, level, sort, observed, mutated, validate)\u001b[0m\n\u001b[0;32m    591\u001b[0m                 \u001b[1;32mif\u001b[0m \u001b[0mvalidate\u001b[0m\u001b[1;33m:\u001b[0m\u001b[1;33m\u001b[0m\u001b[1;33m\u001b[0m\u001b[0m\n\u001b[0;32m    592\u001b[0m                     \u001b[0mobj\u001b[0m\u001b[1;33m.\u001b[0m\u001b[0m_check_label_or_level_ambiguity\u001b[0m\u001b[1;33m(\u001b[0m\u001b[0mgpr\u001b[0m\u001b[1;33m,\u001b[0m \u001b[0maxis\u001b[0m\u001b[1;33m=\u001b[0m\u001b[0maxis\u001b[0m\u001b[1;33m)\u001b[0m\u001b[1;33m\u001b[0m\u001b[1;33m\u001b[0m\u001b[0m\n\u001b[1;32m--> 593\u001b[1;33m                 \u001b[0min_axis\u001b[0m\u001b[1;33m,\u001b[0m \u001b[0mname\u001b[0m\u001b[1;33m,\u001b[0m \u001b[0mgpr\u001b[0m \u001b[1;33m=\u001b[0m \u001b[1;32mTrue\u001b[0m\u001b[1;33m,\u001b[0m \u001b[0mgpr\u001b[0m\u001b[1;33m,\u001b[0m \u001b[0mobj\u001b[0m\u001b[1;33m[\u001b[0m\u001b[0mgpr\u001b[0m\u001b[1;33m]\u001b[0m\u001b[1;33m\u001b[0m\u001b[1;33m\u001b[0m\u001b[0m\n\u001b[0m\u001b[0;32m    594\u001b[0m                 \u001b[0mexclusions\u001b[0m\u001b[1;33m.\u001b[0m\u001b[0mappend\u001b[0m\u001b[1;33m(\u001b[0m\u001b[0mname\u001b[0m\u001b[1;33m)\u001b[0m\u001b[1;33m\u001b[0m\u001b[1;33m\u001b[0m\u001b[0m\n\u001b[0;32m    595\u001b[0m             \u001b[1;32melif\u001b[0m \u001b[0mobj\u001b[0m\u001b[1;33m.\u001b[0m\u001b[0m_is_level_reference\u001b[0m\u001b[1;33m(\u001b[0m\u001b[0mgpr\u001b[0m\u001b[1;33m,\u001b[0m \u001b[0maxis\u001b[0m\u001b[1;33m=\u001b[0m\u001b[0maxis\u001b[0m\u001b[1;33m)\u001b[0m\u001b[1;33m:\u001b[0m\u001b[1;33m\u001b[0m\u001b[1;33m\u001b[0m\u001b[0m\n",
      "\u001b[1;32m~\\AppData\\Local\\Packages\\PythonSoftwareFoundation.Python.3.8_qbz5n2kfra8p0\\LocalCache\\local-packages\\Python38\\site-packages\\pandas\\core\\frame.py\u001b[0m in \u001b[0;36m__getitem__\u001b[1;34m(self, key)\u001b[0m\n\u001b[0;32m   2774\u001b[0m                 \u001b[1;32mif\u001b[0m \u001b[0mself\u001b[0m\u001b[1;33m.\u001b[0m\u001b[0mcolumns\u001b[0m\u001b[1;33m.\u001b[0m\u001b[0mnlevels\u001b[0m \u001b[1;33m>\u001b[0m \u001b[1;36m1\u001b[0m\u001b[1;33m:\u001b[0m\u001b[1;33m\u001b[0m\u001b[1;33m\u001b[0m\u001b[0m\n\u001b[0;32m   2775\u001b[0m                     \u001b[1;32mreturn\u001b[0m \u001b[0mself\u001b[0m\u001b[1;33m.\u001b[0m\u001b[0m_getitem_multilevel\u001b[0m\u001b[1;33m(\u001b[0m\u001b[0mkey\u001b[0m\u001b[1;33m)\u001b[0m\u001b[1;33m\u001b[0m\u001b[1;33m\u001b[0m\u001b[0m\n\u001b[1;32m-> 2776\u001b[1;33m                 \u001b[1;32mreturn\u001b[0m \u001b[0mself\u001b[0m\u001b[1;33m.\u001b[0m\u001b[0m_get_item_cache\u001b[0m\u001b[1;33m(\u001b[0m\u001b[0mkey\u001b[0m\u001b[1;33m)\u001b[0m\u001b[1;33m\u001b[0m\u001b[1;33m\u001b[0m\u001b[0m\n\u001b[0m\u001b[0;32m   2777\u001b[0m \u001b[1;33m\u001b[0m\u001b[0m\n\u001b[0;32m   2778\u001b[0m         \u001b[1;31m# Do we have a slicer (on rows)?\u001b[0m\u001b[1;33m\u001b[0m\u001b[1;33m\u001b[0m\u001b[1;33m\u001b[0m\u001b[0m\n",
      "\u001b[1;32m~\\AppData\\Local\\Packages\\PythonSoftwareFoundation.Python.3.8_qbz5n2kfra8p0\\LocalCache\\local-packages\\Python38\\site-packages\\pandas\\core\\generic.py\u001b[0m in \u001b[0;36m_get_item_cache\u001b[1;34m(self, item)\u001b[0m\n\u001b[0;32m   3584\u001b[0m         \u001b[0mres\u001b[0m \u001b[1;33m=\u001b[0m \u001b[0mcache\u001b[0m\u001b[1;33m.\u001b[0m\u001b[0mget\u001b[0m\u001b[1;33m(\u001b[0m\u001b[0mitem\u001b[0m\u001b[1;33m)\u001b[0m\u001b[1;33m\u001b[0m\u001b[1;33m\u001b[0m\u001b[0m\n\u001b[0;32m   3585\u001b[0m         \u001b[1;32mif\u001b[0m \u001b[0mres\u001b[0m \u001b[1;32mis\u001b[0m \u001b[1;32mNone\u001b[0m\u001b[1;33m:\u001b[0m\u001b[1;33m\u001b[0m\u001b[1;33m\u001b[0m\u001b[0m\n\u001b[1;32m-> 3586\u001b[1;33m             \u001b[0mvalues\u001b[0m \u001b[1;33m=\u001b[0m \u001b[0mself\u001b[0m\u001b[1;33m.\u001b[0m\u001b[0m_data\u001b[0m\u001b[1;33m.\u001b[0m\u001b[0mget\u001b[0m\u001b[1;33m(\u001b[0m\u001b[0mitem\u001b[0m\u001b[1;33m)\u001b[0m\u001b[1;33m\u001b[0m\u001b[1;33m\u001b[0m\u001b[0m\n\u001b[0m\u001b[0;32m   3587\u001b[0m             \u001b[0mres\u001b[0m \u001b[1;33m=\u001b[0m \u001b[0mself\u001b[0m\u001b[1;33m.\u001b[0m\u001b[0m_box_item_values\u001b[0m\u001b[1;33m(\u001b[0m\u001b[0mitem\u001b[0m\u001b[1;33m,\u001b[0m \u001b[0mvalues\u001b[0m\u001b[1;33m)\u001b[0m\u001b[1;33m\u001b[0m\u001b[1;33m\u001b[0m\u001b[0m\n\u001b[0;32m   3588\u001b[0m             \u001b[0mcache\u001b[0m\u001b[1;33m[\u001b[0m\u001b[0mitem\u001b[0m\u001b[1;33m]\u001b[0m \u001b[1;33m=\u001b[0m \u001b[0mres\u001b[0m\u001b[1;33m\u001b[0m\u001b[1;33m\u001b[0m\u001b[0m\n",
      "\u001b[1;32m~\\AppData\\Local\\Packages\\PythonSoftwareFoundation.Python.3.8_qbz5n2kfra8p0\\LocalCache\\local-packages\\Python38\\site-packages\\pandas\\core\\internals\\managers.py\u001b[0m in \u001b[0;36mget\u001b[1;34m(self, item)\u001b[0m\n\u001b[0;32m    966\u001b[0m                         \u001b[1;32mraise\u001b[0m \u001b[0mValueError\u001b[0m\u001b[1;33m(\u001b[0m\u001b[1;34m\"cannot label index with a null key\"\u001b[0m\u001b[1;33m)\u001b[0m\u001b[1;33m\u001b[0m\u001b[1;33m\u001b[0m\u001b[0m\n\u001b[0;32m    967\u001b[0m \u001b[1;33m\u001b[0m\u001b[0m\n\u001b[1;32m--> 968\u001b[1;33m             \u001b[1;32mreturn\u001b[0m \u001b[0mself\u001b[0m\u001b[1;33m.\u001b[0m\u001b[0miget\u001b[0m\u001b[1;33m(\u001b[0m\u001b[0mloc\u001b[0m\u001b[1;33m)\u001b[0m\u001b[1;33m\u001b[0m\u001b[1;33m\u001b[0m\u001b[0m\n\u001b[0m\u001b[0;32m    969\u001b[0m         \u001b[1;32melse\u001b[0m\u001b[1;33m:\u001b[0m\u001b[1;33m\u001b[0m\u001b[1;33m\u001b[0m\u001b[0m\n\u001b[0;32m    970\u001b[0m \u001b[1;33m\u001b[0m\u001b[0m\n",
      "\u001b[1;32m~\\AppData\\Local\\Packages\\PythonSoftwareFoundation.Python.3.8_qbz5n2kfra8p0\\LocalCache\\local-packages\\Python38\\site-packages\\pandas\\core\\internals\\managers.py\u001b[0m in \u001b[0;36miget\u001b[1;34m(self, i)\u001b[0m\n\u001b[0;32m    983\u001b[0m         \u001b[0mOtherwise\u001b[0m \u001b[1;32mreturn\u001b[0m \u001b[1;32mas\u001b[0m \u001b[0ma\u001b[0m \u001b[0mndarray\u001b[0m\u001b[1;33m\u001b[0m\u001b[1;33m\u001b[0m\u001b[0m\n\u001b[0;32m    984\u001b[0m         \"\"\"\n\u001b[1;32m--> 985\u001b[1;33m         \u001b[0mblock\u001b[0m \u001b[1;33m=\u001b[0m \u001b[0mself\u001b[0m\u001b[1;33m.\u001b[0m\u001b[0mblocks\u001b[0m\u001b[1;33m[\u001b[0m\u001b[0mself\u001b[0m\u001b[1;33m.\u001b[0m\u001b[0m_blknos\u001b[0m\u001b[1;33m[\u001b[0m\u001b[0mi\u001b[0m\u001b[1;33m]\u001b[0m\u001b[1;33m]\u001b[0m\u001b[1;33m\u001b[0m\u001b[1;33m\u001b[0m\u001b[0m\n\u001b[0m\u001b[0;32m    986\u001b[0m         \u001b[0mvalues\u001b[0m \u001b[1;33m=\u001b[0m \u001b[0mblock\u001b[0m\u001b[1;33m.\u001b[0m\u001b[0miget\u001b[0m\u001b[1;33m(\u001b[0m\u001b[0mself\u001b[0m\u001b[1;33m.\u001b[0m\u001b[0m_blklocs\u001b[0m\u001b[1;33m[\u001b[0m\u001b[0mi\u001b[0m\u001b[1;33m]\u001b[0m\u001b[1;33m)\u001b[0m\u001b[1;33m\u001b[0m\u001b[1;33m\u001b[0m\u001b[0m\n\u001b[0;32m    987\u001b[0m \u001b[1;33m\u001b[0m\u001b[0m\n",
      "\u001b[1;31mTypeError\u001b[0m: only integer scalar arrays can be converted to a scalar index"
     ]
    }
   ],
   "source": [
    "dfPaidList.groupby(['Ngay','So don','Loai tien']).sum()"
   ]
  },
  {
   "cell_type": "code",
   "execution_count": null,
   "metadata": {},
   "outputs": [],
   "source": [
    "\n",
    "\n",
    "\n",
    "dfmerge=dfPaidList.merge(dfAccFinalGroupby,how='outer',left_on=['Ngay','So don','Loai tien'],right_on=['Ngày chứng từ','Policy','Loại tiền'],suffixes=['PL','ACC'])\n",
    "dfmerge.to_csv(\"D:/merge.csv\")"
   ]
  },
  {
   "cell_type": "code",
   "execution_count": 73,
   "metadata": {},
   "outputs": [],
   "source": [
    " dfAccFinalGroupby=dfAccFinal.groupby(['Ngày chứng từ','Policy','Loại tiền']).sum()"
   ]
  },
  {
   "cell_type": "code",
   "execution_count": 74,
   "metadata": {},
   "outputs": [
    {
     "output_type": "execute_result",
     "data": {
      "text/plain": "                                                                         Amount\nPaid dated Note                                          Currency              \n2000-01-01 0                                             0         0.000000e+00\n                                                         JPY       0.000000e+00\n                                                         USD       1.174838e+06\n                                                         VND       2.151927e+10\n           HCI190008HYD.CL19.BT.1                        0         7.220971e+07\n...                                                                         ...\n2020-09-29 UIC TT TIEN THAY TRONG, MUC MAY IN, INV004892 VND       5.689000e+06\n2020-09-30 BOI THUONG PAI200001HGDEN.CLAIM.200526.CL01   VND       1.255812e+07\n           HOAN PHI MDL200080HYDEN02, INV00894           VND       9.246575e+06\n           PAYMENT FOR REINSURANCE                       USD       3.545590e+03\n           TT HOA HONG DAI LY T8/2020                    VND       5.076362e+07\n\n[256 rows x 1 columns]",
      "text/html": "<div>\n<style scoped>\n    .dataframe tbody tr th:only-of-type {\n        vertical-align: middle;\n    }\n\n    .dataframe tbody tr th {\n        vertical-align: top;\n    }\n\n    .dataframe thead th {\n        text-align: right;\n    }\n</style>\n<table border=\"1\" class=\"dataframe\">\n  <thead>\n    <tr style=\"text-align: right;\">\n      <th></th>\n      <th></th>\n      <th></th>\n      <th>Amount</th>\n    </tr>\n    <tr>\n      <th>Paid dated</th>\n      <th>Note</th>\n      <th>Currency</th>\n      <th></th>\n    </tr>\n  </thead>\n  <tbody>\n    <tr>\n      <th rowspan=\"5\" valign=\"top\">2000-01-01</th>\n      <th rowspan=\"4\" valign=\"top\">0</th>\n      <th>0</th>\n      <td>0.000000e+00</td>\n    </tr>\n    <tr>\n      <th>JPY</th>\n      <td>0.000000e+00</td>\n    </tr>\n    <tr>\n      <th>USD</th>\n      <td>1.174838e+06</td>\n    </tr>\n    <tr>\n      <th>VND</th>\n      <td>2.151927e+10</td>\n    </tr>\n    <tr>\n      <th>HCI190008HYD.CL19.BT.1</th>\n      <th>0</th>\n      <td>7.220971e+07</td>\n    </tr>\n    <tr>\n      <th>...</th>\n      <th>...</th>\n      <th>...</th>\n      <td>...</td>\n    </tr>\n    <tr>\n      <th>2020-09-29</th>\n      <th>UIC TT TIEN THAY TRONG, MUC MAY IN, INV004892</th>\n      <th>VND</th>\n      <td>5.689000e+06</td>\n    </tr>\n    <tr>\n      <th rowspan=\"4\" valign=\"top\">2020-09-30</th>\n      <th>BOI THUONG PAI200001HGDEN.CLAIM.200526.CL01</th>\n      <th>VND</th>\n      <td>1.255812e+07</td>\n    </tr>\n    <tr>\n      <th>HOAN PHI MDL200080HYDEN02, INV00894</th>\n      <th>VND</th>\n      <td>9.246575e+06</td>\n    </tr>\n    <tr>\n      <th>PAYMENT FOR REINSURANCE</th>\n      <th>USD</th>\n      <td>3.545590e+03</td>\n    </tr>\n    <tr>\n      <th>TT HOA HONG DAI LY T8/2020</th>\n      <th>VND</th>\n      <td>5.076362e+07</td>\n    </tr>\n  </tbody>\n</table>\n<p>256 rows × 1 columns</p>\n</div>"
     },
     "metadata": {},
     "execution_count": 74
    }
   ],
   "source": [
    "dfPaidList.groupby(['Paid dated','Note','Currency']).sum()"
   ]
  },
  {
   "cell_type": "code",
   "execution_count": 75,
   "metadata": {},
   "outputs": [
    {
     "output_type": "error",
     "ename": "ValueError",
     "evalue": "Length mismatch: Expected axis has 0 elements, new values have 4 elements",
     "traceback": [
      "\u001b[1;31m---------------------------------------------------------------------------\u001b[0m",
      "\u001b[1;31mValueError\u001b[0m                                Traceback (most recent call last)",
      "\u001b[1;32m<ipython-input-75-b582015c5eae>\u001b[0m in \u001b[0;36m<module>\u001b[1;34m\u001b[0m\n\u001b[0;32m      1\u001b[0m \u001b[0mdfPaidListGroupBy\u001b[0m\u001b[1;33m=\u001b[0m\u001b[0mdfPaidList\u001b[0m\u001b[1;33m.\u001b[0m\u001b[0mgroupby\u001b[0m\u001b[1;33m(\u001b[0m\u001b[1;33m[\u001b[0m\u001b[1;34m'Paid dated'\u001b[0m\u001b[1;33m,\u001b[0m\u001b[1;34m'Note'\u001b[0m\u001b[1;33m,\u001b[0m\u001b[1;34m'Currency'\u001b[0m\u001b[1;33m,\u001b[0m\u001b[1;34m'Amount'\u001b[0m\u001b[1;33m]\u001b[0m\u001b[1;33m)\u001b[0m\u001b[1;33m.\u001b[0m\u001b[0msum\u001b[0m\u001b[1;33m(\u001b[0m\u001b[1;33m)\u001b[0m\u001b[1;33m\u001b[0m\u001b[1;33m\u001b[0m\u001b[0m\n\u001b[1;32m----> 2\u001b[1;33m \u001b[0mdfPaidListGroupBy\u001b[0m\u001b[1;33m.\u001b[0m\u001b[0mcolumns\u001b[0m\u001b[1;33m=\u001b[0m\u001b[1;33m[\u001b[0m\u001b[1;33m[\u001b[0m\u001b[1;34m'Ngay'\u001b[0m\u001b[1;33m,\u001b[0m\u001b[1;34m'So don'\u001b[0m\u001b[1;33m,\u001b[0m\u001b[1;34m'Loai tien'\u001b[0m\u001b[1;33m,\u001b[0m\u001b[1;34m'So tien'\u001b[0m\u001b[1;33m]\u001b[0m\u001b[1;33m]\u001b[0m\u001b[1;33m\u001b[0m\u001b[1;33m\u001b[0m\u001b[0m\n\u001b[0m\u001b[0;32m      3\u001b[0m \u001b[1;33m\u001b[0m\u001b[0m\n\u001b[0;32m      4\u001b[0m \u001b[1;33m\u001b[0m\u001b[0m\n\u001b[0;32m      5\u001b[0m \u001b[1;33m\u001b[0m\u001b[0m\n",
      "\u001b[1;32m~\\AppData\\Local\\Packages\\PythonSoftwareFoundation.Python.3.8_qbz5n2kfra8p0\\LocalCache\\local-packages\\Python38\\site-packages\\pandas\\core\\generic.py\u001b[0m in \u001b[0;36m__setattr__\u001b[1;34m(self, name, value)\u001b[0m\n\u001b[0;32m   5285\u001b[0m         \u001b[1;32mtry\u001b[0m\u001b[1;33m:\u001b[0m\u001b[1;33m\u001b[0m\u001b[1;33m\u001b[0m\u001b[0m\n\u001b[0;32m   5286\u001b[0m             \u001b[0mobject\u001b[0m\u001b[1;33m.\u001b[0m\u001b[0m__getattribute__\u001b[0m\u001b[1;33m(\u001b[0m\u001b[0mself\u001b[0m\u001b[1;33m,\u001b[0m \u001b[0mname\u001b[0m\u001b[1;33m)\u001b[0m\u001b[1;33m\u001b[0m\u001b[1;33m\u001b[0m\u001b[0m\n\u001b[1;32m-> 5287\u001b[1;33m             \u001b[1;32mreturn\u001b[0m \u001b[0mobject\u001b[0m\u001b[1;33m.\u001b[0m\u001b[0m__setattr__\u001b[0m\u001b[1;33m(\u001b[0m\u001b[0mself\u001b[0m\u001b[1;33m,\u001b[0m \u001b[0mname\u001b[0m\u001b[1;33m,\u001b[0m \u001b[0mvalue\u001b[0m\u001b[1;33m)\u001b[0m\u001b[1;33m\u001b[0m\u001b[1;33m\u001b[0m\u001b[0m\n\u001b[0m\u001b[0;32m   5288\u001b[0m         \u001b[1;32mexcept\u001b[0m \u001b[0mAttributeError\u001b[0m\u001b[1;33m:\u001b[0m\u001b[1;33m\u001b[0m\u001b[1;33m\u001b[0m\u001b[0m\n\u001b[0;32m   5289\u001b[0m             \u001b[1;32mpass\u001b[0m\u001b[1;33m\u001b[0m\u001b[1;33m\u001b[0m\u001b[0m\n",
      "\u001b[1;32mpandas\\_libs\\properties.pyx\u001b[0m in \u001b[0;36mpandas._libs.properties.AxisProperty.__set__\u001b[1;34m()\u001b[0m\n",
      "\u001b[1;32m~\\AppData\\Local\\Packages\\PythonSoftwareFoundation.Python.3.8_qbz5n2kfra8p0\\LocalCache\\local-packages\\Python38\\site-packages\\pandas\\core\\generic.py\u001b[0m in \u001b[0;36m_set_axis\u001b[1;34m(self, axis, labels)\u001b[0m\n\u001b[0;32m    659\u001b[0m \u001b[1;33m\u001b[0m\u001b[0m\n\u001b[0;32m    660\u001b[0m     \u001b[1;32mdef\u001b[0m \u001b[0m_set_axis\u001b[0m\u001b[1;33m(\u001b[0m\u001b[0mself\u001b[0m\u001b[1;33m,\u001b[0m \u001b[0maxis\u001b[0m\u001b[1;33m,\u001b[0m \u001b[0mlabels\u001b[0m\u001b[1;33m)\u001b[0m \u001b[1;33m->\u001b[0m \u001b[1;32mNone\u001b[0m\u001b[1;33m:\u001b[0m\u001b[1;33m\u001b[0m\u001b[1;33m\u001b[0m\u001b[0m\n\u001b[1;32m--> 661\u001b[1;33m         \u001b[0mself\u001b[0m\u001b[1;33m.\u001b[0m\u001b[0m_data\u001b[0m\u001b[1;33m.\u001b[0m\u001b[0mset_axis\u001b[0m\u001b[1;33m(\u001b[0m\u001b[0maxis\u001b[0m\u001b[1;33m,\u001b[0m \u001b[0mlabels\u001b[0m\u001b[1;33m)\u001b[0m\u001b[1;33m\u001b[0m\u001b[1;33m\u001b[0m\u001b[0m\n\u001b[0m\u001b[0;32m    662\u001b[0m         \u001b[0mself\u001b[0m\u001b[1;33m.\u001b[0m\u001b[0m_clear_item_cache\u001b[0m\u001b[1;33m(\u001b[0m\u001b[1;33m)\u001b[0m\u001b[1;33m\u001b[0m\u001b[1;33m\u001b[0m\u001b[0m\n\u001b[0;32m    663\u001b[0m \u001b[1;33m\u001b[0m\u001b[0m\n",
      "\u001b[1;32m~\\AppData\\Local\\Packages\\PythonSoftwareFoundation.Python.3.8_qbz5n2kfra8p0\\LocalCache\\local-packages\\Python38\\site-packages\\pandas\\core\\internals\\managers.py\u001b[0m in \u001b[0;36mset_axis\u001b[1;34m(self, axis, new_labels)\u001b[0m\n\u001b[0;32m    175\u001b[0m \u001b[1;33m\u001b[0m\u001b[0m\n\u001b[0;32m    176\u001b[0m         \u001b[1;32mif\u001b[0m \u001b[0mnew_len\u001b[0m \u001b[1;33m!=\u001b[0m \u001b[0mold_len\u001b[0m\u001b[1;33m:\u001b[0m\u001b[1;33m\u001b[0m\u001b[1;33m\u001b[0m\u001b[0m\n\u001b[1;32m--> 177\u001b[1;33m             raise ValueError(\n\u001b[0m\u001b[0;32m    178\u001b[0m                 \u001b[1;34mf\"Length mismatch: Expected axis has {old_len} elements, new \"\u001b[0m\u001b[1;33m\u001b[0m\u001b[1;33m\u001b[0m\u001b[0m\n\u001b[0;32m    179\u001b[0m                 \u001b[1;34mf\"values have {new_len} elements\"\u001b[0m\u001b[1;33m\u001b[0m\u001b[1;33m\u001b[0m\u001b[0m\n",
      "\u001b[1;31mValueError\u001b[0m: Length mismatch: Expected axis has 0 elements, new values have 4 elements"
     ]
    }
   ],
   "source": [
    "dfPaidListGroupBy=dfPaidList.groupby(['Paid dated','Note','Currency','Amount']).sum()\n",
    "dfPaidListGroupBy.columns=[['Ngay','So don','Loai tien','So tien']]\n",
    "\n",
    "    \n",
    "\n",
    "dfPaidListGroupBy=dfPaidListFinal.groupby(['Ngay','So don','Loai tien']).sum()\n",
    "dfmerge=dfPaidList.merge(dfAccFinalGroupby,how='outer',left_on=['Ngay','So don','Loai tien'],right_on=['Ngày chứng từ','Policy','Loại tiền'],suffixes=['PL','ACC'])\n",
    "dfmerge.to_csv(\"D:/merge.csv\")\n"
   ]
  },
  {
   "cell_type": "code",
   "execution_count": 87,
   "metadata": {},
   "outputs": [],
   "source": [
    "dfPaidListGroupBy=dfPaidList.groupby(['Paid dated','Note','Currency'],as_index=False)['Amount'].sum()"
   ]
  },
  {
   "cell_type": "code",
   "execution_count": 91,
   "metadata": {},
   "outputs": [
    {
     "output_type": "execute_result",
     "data": {
      "text/plain": "      Ngày chứng từ                                     Policy Loại tiền  \\\n280      2020-01-22                                          0       VND   \n290      2020-01-22                             PAR190013SBL.C       VND   \n291      2020-01-15                             PAR180585SYD.C       VND   \n479      2020-02-12  TT PHI DICH VU EPOLICY T1/2020 INV0000135       VND   \n480      2020-02-12       TT PHI NGHIEN CUU THI TRUONG KH NHAT       VND   \n...             ...                                        ...       ...   \n55010    2020-08-27                       Inv0001982_2.694.531       VND   \n55011    2020-08-27                       Inv0001982_2.694.531       VND   \n55012    2020-08-27                       Inv0001982_2.694.531       VND   \n55013    2020-08-27                       Inv0001982_2.694.531       VND   \n55014    2020-08-27                       Inv0001982_2.694.531       VND   \n\n       So tien NT  \n280   -28520000.0  \n290   -10500000.0  \n291   -16416758.0  \n479   -12298000.0  \n480     -880000.0  \n...           ...  \n55010   -408545.0  \n55011   -184091.0  \n55012   -184091.0  \n55013   -184091.0  \n55014     -4131.0  \n\n[5051 rows x 4 columns]",
      "text/html": "<div>\n<style scoped>\n    .dataframe tbody tr th:only-of-type {\n        vertical-align: middle;\n    }\n\n    .dataframe tbody tr th {\n        vertical-align: top;\n    }\n\n    .dataframe thead th {\n        text-align: right;\n    }\n</style>\n<table border=\"1\" class=\"dataframe\">\n  <thead>\n    <tr style=\"text-align: right;\">\n      <th></th>\n      <th>Ngày chứng từ</th>\n      <th>Policy</th>\n      <th>Loại tiền</th>\n      <th>So tien NT</th>\n    </tr>\n  </thead>\n  <tbody>\n    <tr>\n      <th>280</th>\n      <td>2020-01-22</td>\n      <td>0</td>\n      <td>VND</td>\n      <td>-28520000.0</td>\n    </tr>\n    <tr>\n      <th>290</th>\n      <td>2020-01-22</td>\n      <td>PAR190013SBL.C</td>\n      <td>VND</td>\n      <td>-10500000.0</td>\n    </tr>\n    <tr>\n      <th>291</th>\n      <td>2020-01-15</td>\n      <td>PAR180585SYD.C</td>\n      <td>VND</td>\n      <td>-16416758.0</td>\n    </tr>\n    <tr>\n      <th>479</th>\n      <td>2020-02-12</td>\n      <td>TT PHI DICH VU EPOLICY T1/2020 INV0000135</td>\n      <td>VND</td>\n      <td>-12298000.0</td>\n    </tr>\n    <tr>\n      <th>480</th>\n      <td>2020-02-12</td>\n      <td>TT PHI NGHIEN CUU THI TRUONG KH NHAT</td>\n      <td>VND</td>\n      <td>-880000.0</td>\n    </tr>\n    <tr>\n      <th>...</th>\n      <td>...</td>\n      <td>...</td>\n      <td>...</td>\n      <td>...</td>\n    </tr>\n    <tr>\n      <th>55010</th>\n      <td>2020-08-27</td>\n      <td>Inv0001982_2.694.531</td>\n      <td>VND</td>\n      <td>-408545.0</td>\n    </tr>\n    <tr>\n      <th>55011</th>\n      <td>2020-08-27</td>\n      <td>Inv0001982_2.694.531</td>\n      <td>VND</td>\n      <td>-184091.0</td>\n    </tr>\n    <tr>\n      <th>55012</th>\n      <td>2020-08-27</td>\n      <td>Inv0001982_2.694.531</td>\n      <td>VND</td>\n      <td>-184091.0</td>\n    </tr>\n    <tr>\n      <th>55013</th>\n      <td>2020-08-27</td>\n      <td>Inv0001982_2.694.531</td>\n      <td>VND</td>\n      <td>-184091.0</td>\n    </tr>\n    <tr>\n      <th>55014</th>\n      <td>2020-08-27</td>\n      <td>Inv0001982_2.694.531</td>\n      <td>VND</td>\n      <td>-4131.0</td>\n    </tr>\n  </tbody>\n</table>\n<p>5051 rows × 4 columns</p>\n</div>"
     },
     "metadata": {},
     "execution_count": 91
    }
   ],
   "source": [
    "dfAccFinal"
   ]
  },
  {
   "cell_type": "code",
   "execution_count": 82,
   "metadata": {},
   "outputs": [],
   "source": [
    "dfPaidListGroupBy.to_csv(\"D:/groupby.csv\")"
   ]
  },
  {
   "cell_type": "code",
   "execution_count": 84,
   "metadata": {},
   "outputs": [],
   "source": [
    "dfAccFinalGroupby.to_csv('D:/acgroupby.csv')"
   ]
  },
  {
   "cell_type": "code",
   "execution_count": 90,
   "metadata": {},
   "outputs": [
    {
     "output_type": "error",
     "ename": "KeyError",
     "evalue": "'Column not found: So tien'",
     "traceback": [
      "\u001b[1;31m---------------------------------------------------------------------------\u001b[0m",
      "\u001b[1;31mKeyError\u001b[0m                                  Traceback (most recent call last)",
      "\u001b[1;32m<ipython-input-90-2b16cbd40ac6>\u001b[0m in \u001b[0;36m<module>\u001b[1;34m\u001b[0m\n\u001b[1;32m----> 1\u001b[1;33m \u001b[0mdfAccFinalGroupby\u001b[0m\u001b[1;33m=\u001b[0m\u001b[0mdfAccFinal\u001b[0m\u001b[1;33m.\u001b[0m\u001b[0mgroupby\u001b[0m\u001b[1;33m(\u001b[0m\u001b[1;33m[\u001b[0m\u001b[1;34m'Ngày chứng từ'\u001b[0m\u001b[1;33m,\u001b[0m\u001b[1;34m'Policy'\u001b[0m\u001b[1;33m,\u001b[0m\u001b[1;34m'Loại tiền'\u001b[0m\u001b[1;33m]\u001b[0m\u001b[1;33m,\u001b[0m\u001b[0mas_index\u001b[0m\u001b[1;33m=\u001b[0m\u001b[1;32mFalse\u001b[0m\u001b[1;33m)\u001b[0m\u001b[1;33m[\u001b[0m\u001b[1;34m'So tien'\u001b[0m\u001b[1;33m]\u001b[0m\u001b[1;33m.\u001b[0m\u001b[0msum\u001b[0m\u001b[1;33m(\u001b[0m\u001b[1;33m)\u001b[0m\u001b[1;33m\u001b[0m\u001b[1;33m\u001b[0m\u001b[0m\n\u001b[0m\u001b[0;32m      2\u001b[0m \u001b[0ma\u001b[0m\u001b[1;33m=\u001b[0m\u001b[0mnp\u001b[0m\u001b[1;33m.\u001b[0m\u001b[0mdatetime64\u001b[0m\u001b[1;33m(\u001b[0m\u001b[1;34m'2000-01-01'\u001b[0m\u001b[1;33m)\u001b[0m\u001b[1;33m\u001b[0m\u001b[1;33m\u001b[0m\u001b[0m\n\u001b[0;32m      3\u001b[0m \u001b[0mvalues\u001b[0m\u001b[1;33m=\u001b[0m\u001b[1;33m{\u001b[0m\u001b[1;34m'Paid dated'\u001b[0m\u001b[1;33m:\u001b[0m\u001b[0ma\u001b[0m \u001b[1;33m,\u001b[0m\u001b[1;34m'Note'\u001b[0m\u001b[1;33m:\u001b[0m \u001b[1;34m'0'\u001b[0m\u001b[1;33m,\u001b[0m\u001b[1;34m'Currency'\u001b[0m\u001b[1;33m:\u001b[0m\u001b[1;34m'0'\u001b[0m\u001b[1;33m,\u001b[0m\u001b[1;34m'Amount'\u001b[0m\u001b[1;33m:\u001b[0m\u001b[1;36m0\u001b[0m\u001b[1;33m}\u001b[0m\u001b[1;33m\u001b[0m\u001b[1;33m\u001b[0m\u001b[0m\n\u001b[0;32m      4\u001b[0m \u001b[0mdfAccFinalGroupby\u001b[0m\u001b[1;33m=\u001b[0m\u001b[0mdfAccFinal\u001b[0m\u001b[1;33m.\u001b[0m\u001b[0mgroupby\u001b[0m\u001b[1;33m(\u001b[0m\u001b[1;33m[\u001b[0m\u001b[1;34m'Ngày chứng từ'\u001b[0m\u001b[1;33m,\u001b[0m\u001b[1;34m'Policy'\u001b[0m\u001b[1;33m,\u001b[0m\u001b[1;34m'Loại tiền'\u001b[0m\u001b[1;33m]\u001b[0m\u001b[1;33m,\u001b[0m\u001b[0mas_index\u001b[0m\u001b[1;33m=\u001b[0m\u001b[1;32mFalse\u001b[0m\u001b[1;33m)\u001b[0m\u001b[1;33m[\u001b[0m\u001b[1;34m'So tien'\u001b[0m\u001b[1;33m]\u001b[0m\u001b[1;33m.\u001b[0m\u001b[0msum\u001b[0m\u001b[1;33m(\u001b[0m\u001b[1;33m)\u001b[0m\u001b[1;33m\u001b[0m\u001b[1;33m\u001b[0m\u001b[0m\n\u001b[0;32m      5\u001b[0m \u001b[0ma\u001b[0m\u001b[1;33m=\u001b[0m\u001b[0mnp\u001b[0m\u001b[1;33m.\u001b[0m\u001b[0mdatetime64\u001b[0m\u001b[1;33m(\u001b[0m\u001b[1;34m'2000-01-01'\u001b[0m\u001b[1;33m)\u001b[0m\u001b[1;33m\u001b[0m\u001b[1;33m\u001b[0m\u001b[0m\n",
      "\u001b[1;32m~\\AppData\\Local\\Packages\\PythonSoftwareFoundation.Python.3.8_qbz5n2kfra8p0\\LocalCache\\local-packages\\Python38\\site-packages\\pandas\\core\\groupby\\generic.py\u001b[0m in \u001b[0;36m__getitem__\u001b[1;34m(self, key)\u001b[0m\n\u001b[0;32m   1611\u001b[0m                 \u001b[0mstacklevel\u001b[0m\u001b[1;33m=\u001b[0m\u001b[1;36m2\u001b[0m\u001b[1;33m,\u001b[0m\u001b[1;33m\u001b[0m\u001b[1;33m\u001b[0m\u001b[0m\n\u001b[0;32m   1612\u001b[0m             )\n\u001b[1;32m-> 1613\u001b[1;33m         \u001b[1;32mreturn\u001b[0m \u001b[0msuper\u001b[0m\u001b[1;33m(\u001b[0m\u001b[1;33m)\u001b[0m\u001b[1;33m.\u001b[0m\u001b[0m__getitem__\u001b[0m\u001b[1;33m(\u001b[0m\u001b[0mkey\u001b[0m\u001b[1;33m)\u001b[0m\u001b[1;33m\u001b[0m\u001b[1;33m\u001b[0m\u001b[0m\n\u001b[0m\u001b[0;32m   1614\u001b[0m \u001b[1;33m\u001b[0m\u001b[0m\n\u001b[0;32m   1615\u001b[0m     \u001b[1;32mdef\u001b[0m \u001b[0m_gotitem\u001b[0m\u001b[1;33m(\u001b[0m\u001b[0mself\u001b[0m\u001b[1;33m,\u001b[0m \u001b[0mkey\u001b[0m\u001b[1;33m,\u001b[0m \u001b[0mndim\u001b[0m\u001b[1;33m:\u001b[0m \u001b[0mint\u001b[0m\u001b[1;33m,\u001b[0m \u001b[0msubset\u001b[0m\u001b[1;33m=\u001b[0m\u001b[1;32mNone\u001b[0m\u001b[1;33m)\u001b[0m\u001b[1;33m:\u001b[0m\u001b[1;33m\u001b[0m\u001b[1;33m\u001b[0m\u001b[0m\n",
      "\u001b[1;32m~\\AppData\\Local\\Packages\\PythonSoftwareFoundation.Python.3.8_qbz5n2kfra8p0\\LocalCache\\local-packages\\Python38\\site-packages\\pandas\\core\\base.py\u001b[0m in \u001b[0;36m__getitem__\u001b[1;34m(self, key)\u001b[0m\n\u001b[0;32m    232\u001b[0m         \u001b[1;32melif\u001b[0m \u001b[1;32mnot\u001b[0m \u001b[0mgetattr\u001b[0m\u001b[1;33m(\u001b[0m\u001b[0mself\u001b[0m\u001b[1;33m,\u001b[0m \u001b[1;34m\"as_index\"\u001b[0m\u001b[1;33m,\u001b[0m \u001b[1;32mFalse\u001b[0m\u001b[1;33m)\u001b[0m\u001b[1;33m:\u001b[0m\u001b[1;33m\u001b[0m\u001b[1;33m\u001b[0m\u001b[0m\n\u001b[0;32m    233\u001b[0m             \u001b[1;32mif\u001b[0m \u001b[0mkey\u001b[0m \u001b[1;32mnot\u001b[0m \u001b[1;32min\u001b[0m \u001b[0mself\u001b[0m\u001b[1;33m.\u001b[0m\u001b[0mobj\u001b[0m\u001b[1;33m.\u001b[0m\u001b[0mcolumns\u001b[0m\u001b[1;33m:\u001b[0m\u001b[1;33m\u001b[0m\u001b[1;33m\u001b[0m\u001b[0m\n\u001b[1;32m--> 234\u001b[1;33m                 \u001b[1;32mraise\u001b[0m \u001b[0mKeyError\u001b[0m\u001b[1;33m(\u001b[0m\u001b[1;34mf\"Column not found: {key}\"\u001b[0m\u001b[1;33m)\u001b[0m\u001b[1;33m\u001b[0m\u001b[1;33m\u001b[0m\u001b[0m\n\u001b[0m\u001b[0;32m    235\u001b[0m             \u001b[1;32mreturn\u001b[0m \u001b[0mself\u001b[0m\u001b[1;33m.\u001b[0m\u001b[0m_gotitem\u001b[0m\u001b[1;33m(\u001b[0m\u001b[0mkey\u001b[0m\u001b[1;33m,\u001b[0m \u001b[0mndim\u001b[0m\u001b[1;33m=\u001b[0m\u001b[1;36m2\u001b[0m\u001b[1;33m)\u001b[0m\u001b[1;33m\u001b[0m\u001b[1;33m\u001b[0m\u001b[0m\n\u001b[0;32m    236\u001b[0m \u001b[1;33m\u001b[0m\u001b[0m\n",
      "\u001b[1;31mKeyError\u001b[0m: 'Column not found: So tien'"
     ]
    }
   ],
   "source": []
  },
  {
   "cell_type": "code",
   "execution_count": 101,
   "metadata": {},
   "outputs": [],
   "source": [
    "values={'Số đơn':'0', 'Số đơn HT':'0','Số đơn ĐT':'0'}\n",
    "dfAcc.fillna(value=values, inplace=True)\n",
    "dfAcc['Policy']=dfAcc.apply(lambda x: return_policy(x['Số đơn'], x['Số đơn HT'], x['Số đơn ĐT'], x['TK Nợ'], x['TK Có']), axis=1)\n",
    "dfAcc['Tai khoan']=dfAcc.apply(lambda x: return_account(x['TK Nợ'], x['TK Có']), axis=1)  \n",
    "dfAcc['Tai khoan doi ung']=dfAcc.apply(lambda x: return_account_du(x['TK Nợ'], x['TK Có']), axis=1)  \n",
    "dfAcc['So tien NT']=dfAcc.apply(lambda x: return_amount(x['TK Nợ'], x['TK Có'],x['Số tiền']), axis=1) \n",
    "dfAcc['So tien VND']=dfAcc.apply(lambda x: return_amount(x['TK Nợ'], x['TK Có'],x['Số tiền VND']), axis=1) \n",
    "dfAccFinal=dfAcc.loc[(dfAcc['Tai khoan']!='TaiKhoanKhac') & (dfAcc['Tai khoan doi ung'].str.startswith('624')),['Ngày chứng từ','Policy','Loại tiền','So tien NT']] \n",
    "dfAccFinalGroupby=dfAccFinal.groupby(['Ngày chứng từ','Policy','Loại tiền'],as_index=False)['So tien NT'].sum()\n",
    "a=np.datetime64('2000-01-01')\n",
    "values={'Paid dated':a ,'Note': '0','Currency':'0','Amount':0}\n",
    "dfPaidList=dfPaidList.fillna(value=values)\n",
    "dfPaidListGroupBy=dfPaidList.groupby(['Paid dated','Note','Currency'],as_index=False)['Amount'].sum()\n",
    "#dfPaidListGroupBy.columns=[['Ngay','So don','Loai tien','So tien']]\n",
    "dfmerge=dfPaidListGroupBy.merge(dfAccFinalGroupby,how='outer',left_on=['Paid dated','Note','Currency'],right_on=['Ngày chứng từ','Policy','Loại tiền'],suffixes=['PL','ACC'])\n",
    "dfmerge.to_csv(\"D:/merge.csv\")\n"
   ]
  },
  {
   "cell_type": "code",
   "execution_count": 100,
   "metadata": {},
   "outputs": [
    {
     "output_type": "execute_result",
     "data": {
      "text/plain": "Int64Index([   0,    1,    2,    3,    4,    5,    6,    7,    8,    9,\n            ...\n            4177, 4178, 4179, 4180, 4181, 4182, 4183, 4184, 4185, 4186],\n           dtype='int64', length=4187)"
     },
     "metadata": {},
     "execution_count": 100
    }
   ],
   "source": [
    "dfAccFinalGroupby.index"
   ]
  },
  {
   "cell_type": "code",
   "execution_count": 99,
   "metadata": {},
   "outputs": [
    {
     "output_type": "execute_result",
     "data": {
      "text/plain": "Int64Index([  0,   1,   2,   3,   4,   5,   6,   7,   8,   9,\n            ...\n            246, 247, 248, 249, 250, 251, 252, 253, 254, 255],\n           dtype='int64', length=256)"
     },
     "metadata": {},
     "execution_count": 99
    }
   ],
   "source": [
    "dfPaidListGroupBy.index"
   ]
  },
  {
   "cell_type": "code",
   "execution_count": 105,
   "metadata": {},
   "outputs": [],
   "source": [
    "dfAcc=dfAcc.loc[dfAcc['TK Có'].str.startswith('112')]"
   ]
  },
  {
   "cell_type": "code",
   "execution_count": 108,
   "metadata": {},
   "outputs": [],
   "source": [
    "a=dfAcc['TK Nợ'].unique()"
   ]
  },
  {
   "cell_type": "code",
   "execution_count": 109,
   "metadata": {},
   "outputs": [
    {
     "output_type": "execute_result",
     "data": {
      "text/plain": "array(['335282', '141111', '642722', '133118', '112211', '112111',\n       '153111', '133111', '642131', '335281', '138888', '642811',\n       '642852', '642711', '642831', '213511', '642511', '133116',\n       '642741', '642813', '642132', '642851', '642733', '642713',\n       '642111', '331121', '333532', '642163', '333514', '333114',\n       '333534', '331311', '642721', '642211', '642715', '338888',\n       '338711', '624194', '133126', '642123', '624183', '333121',\n       '333512', '331211', '642853', '642151', '642141', '333861',\n       '333111', '333511', '331141', '642121', '642112', '642125',\n       '642126', '333411', '333531', '338813', '133112', '642712',\n       '642814', '624184', '624187', '642841', '642731', '642133',\n       '642732', '624112', '133121', '112261', '112114', '642221',\n       '624181', '133117', '642771', '642762', '112117', '642884',\n       '635111', '624191', '334111', '642124', '624188', '112121',\n       '335111', '335211', '642524', '642168', '331511', '331221',\n       '642122', '624186', '331116', '142881', '624192', '142882',\n       '211411', '142883', '112132', '133122', '331111', '112217',\n       '642521', '624171', '142311', '111111', '331113', '331142',\n       '128137', '128129', '624111', '331143', '128140', '624195',\n       '128134', '624141', '331411', '112134', '128135', '112131',\n       '331431', '128125', '131411', '112116', '128117', '138831'],\n      dtype=object)"
     },
     "metadata": {},
     "execution_count": 109
    }
   ],
   "source": [
    "a"
   ]
  },
  {
   "cell_type": "code",
   "execution_count": 140,
   "metadata": {
    "tags": []
   },
   "outputs": [
    {
     "output_type": "stream",
     "name": "stdout",
     "text": "WARNING *** file size (923330) not 512 + multiple of sector size (512)\n"
    }
   ],
   "source": [
    "import tkinter as tk\n",
    "from tkinter import ttk\n",
    "from tkinter import filedialog as fd\n",
    "from tkinter import filedialog as fd\n",
    "from numpy.core.defchararray import startswith\n",
    "from numpy.core.numeric import outer\n",
    "import pyxlsb\n",
    "import pandas as pd\n",
    "import numpy as np\n",
    "import subprocess\n",
    "import numpy as np\n",
    "\n",
    "\n",
    "\n",
    "\n",
    "\n",
    "win = tk.Tk()\n",
    "win.title(\"Đối chiếu Paid list\")\n",
    "#-------------------------------------------------------------Declare global variables ------------------------------\n",
    "\n",
    "paidListFile = ''\n",
    "paidListFileUseCol=['Paid dated','Số hồ sơ BT/Số đơn','Currency','Số tiền']\n",
    "paidListFileUseColDataType={'Paid dated': np.datetime64, 'Note': object , 'Currency' : object, 'Amount': np.float64 }\n",
    "\n",
    "accFile = ''\n",
    "accFileUseCol=['Ngày chứng từ','Số đơn', 'Số đơn HT', 'Số đơn ĐT','Loại tiền', 'TK Nợ', 'TK Có', 'Số tiền', 'Số tiền VND']\n",
    "accFileUseColDataType={'Ngày chứng từ':np.datetime64,'TK Nợ':object,'Loại tiền': object, 'TK Có':object, 'Số tiền':np.float64, 'Số tiền VND':np.float64}\n",
    "savingFolder = ''\n",
    "savingFileName=''\n",
    "#radPremiumOrOthers=''\n",
    "dfPaidList=pd.DataFrame\n",
    "dfAcc=pd.DataFrame\n",
    "dfAccFinal=pd.DataFrame\n",
    "dfPaidListFinal=pd.DataFrame\n",
    "dfPaidListGroupBy=pd.DataFrame\n",
    "dfMerge=pd.DataFrame\n",
    "\n",
    "fullOrLeft=''\n",
    "\n",
    "#------------------------------------------------------------- Widget event handle------------------------------------\n",
    "\n",
    "\n",
    "def click_select_cpc():\n",
    "    global paidListFile\n",
    "    paidListFile = fd.askopenfilename()\n",
    "\n",
    "\n",
    "def click_select_acc():\n",
    "    global accFile\n",
    "    accFile = fd.askopenfilename()\n",
    "\n",
    "\n",
    "def click_save_file():\n",
    "    global savingFolder\n",
    "    savingFolder = fd.askdirectory()\n",
    "    #print(saving_folder)\n",
    "\n",
    "def button_open_saved_file_click():\n",
    "    subprocess.Popen([f\"{savingFolder}/{savingFileName.get()}.csv\"], shell=True)\n",
    "    win.destroy()\n",
    "\n",
    "def rad_select_full_click():\n",
    "    global fullOrLeft\n",
    "    fullOrLeft = RadFullOrLeft.get() # return 'full'\n",
    "\n",
    "\n",
    "def rad_select_left_click():\n",
    "    global fullOrLeft\n",
    "    fullOrLeft = RadFullOrLeft.get() # return 'left'\n",
    "\n",
    "def return_policy(soDonHachToan, soDonDoiTru, soDon, taiKhoanNo, taiKhoanCo):\n",
    "    if len(soDonHachToan) < 2 and len(soDonDoiTru) < 2:\n",
    "        return soDon\n",
    "    elif len(soDonHachToan) < 2 and len(soDon) < 2:\n",
    "        return soDonDoiTru\n",
    "    elif len(soDon) < 2 and len(soDonDoiTru) < 2:\n",
    "        return soDonHachToan\n",
    "    elif taiKhoanCo.startswith('112'): # TK no -> 'So don DT', TK co -> 'So don HT'\n",
    "        if len(soDonDoiTru)>2:\n",
    "            return soDonDoiTru\n",
    "        else:\n",
    "            return soDon\n",
    "    elif taiKhoanNo.startswith('112'): # TK no -> 'So don DT', TK co -> 'So don HT'\n",
    "        if len(soDonHachToan)>2:\n",
    "            return soDonHachToan\n",
    "        else:\n",
    "            return soDon\n",
    "    else:\n",
    "        return\n",
    "\n",
    "\n",
    "def return_account(taiKhoanNo,taiKhoanCo):\n",
    "    if taiKhoanNo.startswith('112'):\n",
    "        return taiKhoanNo\n",
    "    elif taiKhoanCo.startswith('112'):\n",
    "        return taiKhoanCo\n",
    "    else:\n",
    "        return 'TaiKhoanKhac'\n",
    "\n",
    "\n",
    "def return_account_du(taiKhoanNo,taiKhoanCo):\n",
    "    if taiKhoanNo.startswith('112'):\n",
    "        return taiKhoanCo\n",
    "    elif taiKhoanCo.startswith('112'):\n",
    "        return taiKhoanNo\n",
    "    else:\n",
    "        return 'TaiKhoanKhac'\n",
    "\n",
    "def return_amount(taiKHoanNo,taiKhoanCo,soTien):\n",
    "    if taiKHoanNo.startswith('112'):\n",
    "        return soTien\n",
    "    elif taiKhoanCo.startswith('112'):\n",
    "        return -soTien\n",
    "    else:\n",
    "        return 0\n",
    "\n",
    "\n",
    "\n",
    "def click_execute():\n",
    "    from tkinter import messagebox as msg\n",
    "    global dfAccFinal\n",
    "    global dfPaidListFinal\n",
    "    global dfPaidList\n",
    "    global dfAcc\n",
    "    global dfPaidListGroupBy\n",
    "    global dfMerge\n",
    "    global paidListFile\n",
    "    global accFile\n",
    "    global savingFolder\n",
    "    global savingFileName\n",
    "\n",
    "    #name=['No','Paid dated','Client Name','Amount','Currency','Type','Bank/Cash','Note','Số tiền','Place number','Số hồ sơ BT/Số đơn','Kỳ TT','Mã KH','Tài khoản']\n",
    "    try:\n",
    "        if paidListFile.endswith('xlsb'):\n",
    "            dfPaidList = pd.read_excel(paidListFile, usecols=paidListFileUseCol,sheet_name='Claim paid', skiprows=1,engine='pyxlsb')\n",
    "        else:\n",
    "            dfPaidList = pd.read_excel(paidListFile, usecols=paidListFileUseCol,sheet_name='Claim paid', skiprows=1)\n",
    "                  \n",
    "        if accFile.endswith('xlsb'):\n",
    "            dfAcc = pd.read_excel(accFile,usecols=accFileUseCol,skiprows=6,dtype=accFileUseColDataType, engine='pyxlsb')\n",
    "        else:\n",
    "            dfAcc = pd.read_excel(accFile,usecols=accFileUseCol,skiprows=6,dtype=accFileUseColDataType)\n",
    "    except:\n",
    "        msg.showerror(\"Error\", \"Only Excel files or CSV files are supported\")\n",
    "        pass\n",
    "\n",
    "    values={'Số đơn':'0', 'Số đơn HT':'0','Số đơn ĐT':'0'}\n",
    "    dfAcc=dfAcc.fillna(value=values)\n",
    "    dfAcc=dfAcc.loc[dfAcc['TK Có'].str.startswith('112')]\n",
    "    dfAcc['Policy']=dfAcc.apply(lambda x: return_policy(x['Số đơn'], x['Số đơn HT'], x['Số đơn ĐT'], x['TK Nợ'], x['TK Có']), axis=1)\n",
    "    dfAcc['Tai khoan']=dfAcc.apply(lambda x: return_account(x['TK Nợ'], x['TK Có']), axis=1)  \n",
    "    dfAcc['Tai khoan doi ung']=dfAcc.apply(lambda x: return_account_du(x['TK Nợ'], x['TK Có']), axis=1)  \n",
    "    dfAcc['So tien NT']=dfAcc.apply(lambda x: return_amount(x['TK Nợ'], x['TK Có'],x['Số tiền']), axis=1) \n",
    "    dfAcc['So tien VND']=dfAcc.apply(lambda x: return_amount(x['TK Nợ'], x['TK Có'],x['Số tiền VND']), axis=1) \n",
    "    dfAccFinal=dfAcc.loc[(dfAcc['Tai khoan']!='TaiKhoanKhac') & (dfAcc['Tai khoan doi ung'].str.startswith(('624','331','333','131','133','138','338'))),['Ngày chứng từ','Policy','Loại tiền','So tien NT']] \n",
    "    dfAccFinalGroupby=dfAccFinal.groupby(['Ngày chứng từ','Policy','Loại tiền'],as_index=False)['So tien NT'].sum()\n",
    "    a=np.datetime64('2000-01-01')\n",
    "    values={'Paid dated':a ,'Số hồ sơ BT/Số đơn': '0','Currency':'0','Số tiền':0}\n",
    "    dfPaidList=dfPaidList.fillna(value=values)\n",
    "    dfPaidListGroupBy=dfPaidList.groupby(['Paid dated','Số hồ sơ BT/Số đơn','Currency'],as_index=False)['Số tiền'].sum()\n",
    "    if fullOrLeft=='full':\n",
    "        dfMerge=dfPaidListGroupBy.merge(dfAccFinalGroupby,how='outer',left_on=['Paid dated','Số hồ sơ BT/Số đơn','Currency'],right_on=['Ngày chứng từ','Policy','Loại tiền'],suffixes=['PL','ACC'])\n",
    "    else:\n",
    "        dfMerge=dfPaidListGroupBy.merge(dfAccFinalGroupby,how='left',left_on=['Paid dated','Số hồ sơ BT/Số đơn','Currency'],right_on=['Ngày chứng từ','Policy','Loại tiền'],suffixes=['PL','ACC'])\n",
    "    dfMerge['Chenh lech']=dfMerge['Số tiền']-dfMerge['So tien NT']\n",
    "    dfMerge.to_csv(f\"{savingFolder}/{savingFileName.get()}.csv\", encoding=\"utf-8-sig\", index=False)\n",
    "    msg.showinfo(\"Information\", \"Đã hoàn thành\")\n",
    "    subprocess.Popen([f\"{savingFolder}/{savingFileName.get()}.csv\"], shell=True)\n",
    "    \n",
    "    paidListFile = ''\n",
    "    accFile = ''\n",
    "    savingFolder = ''\n",
    "    savingFileName=''\n",
    "    #radPremiumOrOthers=''\n",
    "    #dfPaidList=pd.DataFrame\n",
    "    #dfAcc=pd.DataFrame\n",
    "    #dfAccFinal=pd.DataFrame\n",
    "    #dfPaidListFinal=pd.DataFrame\n",
    "    #dfPaidListGroupBy=pd.DataFrame\n",
    "\n",
    "\n",
    "# ----------------------------------------------------------------- Widget------------------------------------------------\n",
    "\n",
    "RadFullOrLeft = tk.StringVar()\n",
    "\n",
    "\n",
    "rad_select_full = ttk.Radiobutton(win, text='Full', width=30, value='full', variable=RadFullOrLeft, command=rad_select_full_click)\n",
    "rad_select_full.grid(column=0, row=0)\n",
    "\n",
    "rad_select_claim = ttk.Radiobutton(win, text='Left', width=30, value='left', variable=RadFullOrLeft, command=rad_select_left_click)\n",
    "rad_select_claim.grid(column=1, row=0)\n",
    "\n",
    "ttk.Label(win, text=\"Chọn file Paid list\", width=20).grid(column=0, row=1)\n",
    "button1 = ttk.Button(win, text=\"Paid list\", width=20, command=click_select_cpc)\n",
    "button1.grid(column=1, row=1)\n",
    "\n",
    "ttk.Label(win, text=\"Chọn file CTGS\", width=20).grid(column=0, row=2)\n",
    "button2 = ttk.Button(win, text=\"CTGS\", width=20, command=click_select_acc)\n",
    "button2.grid(column=1, row=2)\n",
    "\n",
    "ttk.Label(win, text=\"Chọn thư mục lưu file\", width=20).grid(column=0, row=3)\n",
    "button2 = ttk.Button(win, text=\"Folder\", width=20, command=click_save_file)\n",
    "button2.grid(column=1, row=3)\n",
    "\n",
    "ttk.Label(win, text=\"Nhập tên file\", width=20).grid(column=0, row=4)\n",
    "savingFileName = ttk.Entry(win, width=20)\n",
    "savingFileName.grid(column=1, row=4)\n",
    "\n",
    "ttk.Label(win, text=\"Xử lý số liệu\", width=20).grid(column=0, row=5)\n",
    "button3 = ttk.Button(win, text=\"Run\", width=20, command=click_execute)\n",
    "button3.grid(column=1, row=5)\n",
    "\n",
    "label_open_saved_file = ttk.Label(win, text=\"Mở file\", width=20).grid(column=0, row=6)\n",
    "button_open_saved_file = ttk.Button(win, text=\"Mở file\", width=20, command=button_open_saved_file_click)\n",
    "button_open_saved_file.grid(column=1, row=6)\n",
    "\n",
    "\n",
    "\n",
    "\n",
    "win.mainloop()"
   ]
  },
  {
   "cell_type": "code",
   "execution_count": 137,
   "metadata": {},
   "outputs": [
    {
     "output_type": "execute_result",
     "data": {
      "text/plain": "pandas.core.frame.DataFrame"
     },
     "metadata": {},
     "execution_count": 137
    }
   ],
   "source": [
    "dfPaidList"
   ]
  },
  {
   "cell_type": "code",
   "execution_count": 133,
   "metadata": {},
   "outputs": [
    {
     "output_type": "execute_result",
     "data": {
      "text/plain": "      No         Paid\\n dated                           Client Name  \\\n0    1.0                    2                                     3   \n1    1.0  2020-09-01 00:00:00  CONG TY TNHH THUONG MAI ACS VIET NAM   \n2    2.0  2020-09-01 00:00:00      CONG TY TNHH SHINDENGEN VIET NAM   \n3    3.0  2020-09-01 00:00:00                   DUONG THI THUY TIEN   \n4    4.0  2020-09-01 00:00:00                CANON VIETNAM CO., LTD   \n..   ...                  ...                                   ...   \n550  NaN                  NaN                                   NaN   \n551  NaN                  NaN                                   NaN   \n552  NaN                  NaN                            Sub total:   \n553  NaN                  NaN                                   NaN   \n554  NaN                  NaN                                   NaN   \n\n           Amount Currency  Type Bank/Cash  \\\n0    4.000000e+00        5   6.0         7   \n1    2.400000e+04      VND   NaN       VID   \n2    1.725500e+08      VND   NaN       VID   \n3    2.466281e+06      VND   NaN       VID   \n4    4.630497e+06      VND   NaN       VID   \n..            ...      ...   ...       ...   \n550           NaN      NaN   NaN       NaN   \n551           NaN      NaN   NaN       NaN   \n552  2.250722e+10      VND   NaN       NaN   \n553  1.171292e+06      USD   NaN       NaN   \n554  0.000000e+00      JPY   NaN       NaN   \n\n                                            Note Place number  Số tiền  \\\n0                                              8            9     10.0   \n1            hoa hong dai ly t7/2020 inv 0004140   Commission      NaN   \n2       UIC Hoàn phí bảo hiểm PAR190195HYD.CEN01       Refund      NaN   \n3     tien boi thuong WCI200163HYD.003.CL01.BT.3        Claim      NaN   \n4    tien boi thuong MCI2001HYD.06-002.CL01.BT.2        Claim      NaN   \n..                                           ...          ...      ...   \n550                                          NaN          NaN      NaN   \n551                                          NaN          NaN      NaN   \n552                                          NaN          NaN      NaN   \n553                                          NaN          NaN      NaN   \n554                                          NaN          NaN      NaN   \n\n    Số hồ sơ BT/Số đơn Kỳ TT Mã KH  Tài khoản  \\\n0                   11    12    13       14.0   \n1                  NaN   NaN   NaN        NaN   \n2                  NaN   NaN   NaN        NaN   \n3                  NaN   NaN   NaN        NaN   \n4                  NaN   NaN   NaN        NaN   \n..                 ...   ...   ...        ...   \n550                NaN   NaN   NaN        NaN   \n551                NaN   NaN   NaN        NaN   \n552                NaN   NaN   NaN        NaN   \n553                NaN   NaN   NaN        NaN   \n554                NaN     `   NaN        NaN   \n\n    Hạch toán nợ ghi số dương, hạch toán có ghi số âm  Unnamed: 15  \\\n0                                                 NaN          NaN   \n1                                                 NaN          NaN   \n2                                                 NaN          NaN   \n3                                                 NaN          NaN   \n4                                                 NaN          NaN   \n..                                                ...          ...   \n550                                               NaN          NaN   \n551                                               NaN          NaN   \n552                                               NaN          NaN   \n553                                               NaN          NaN   \n554                                               NaN          NaN   \n\n    Unnamed: 16 Unnamed: 17 Unnamed: 18  \n0           NaN         NaN         NaN  \n1           NaN         NaN         NaN  \n2           NaN         NaN         NaN  \n3           NaN         NaN         NaN  \n4           NaN         NaN         NaN  \n..          ...         ...         ...  \n550         NaN         NaN         NaN  \n551         NaN         NaN         NaN  \n552         NaN         NaN         NaN  \n553         NaN         NaN         NaN  \n554         NaN         NaN         NaN  \n\n[555 rows x 19 columns]",
      "text/html": "<div>\n<style scoped>\n    .dataframe tbody tr th:only-of-type {\n        vertical-align: middle;\n    }\n\n    .dataframe tbody tr th {\n        vertical-align: top;\n    }\n\n    .dataframe thead th {\n        text-align: right;\n    }\n</style>\n<table border=\"1\" class=\"dataframe\">\n  <thead>\n    <tr style=\"text-align: right;\">\n      <th></th>\n      <th>No</th>\n      <th>Paid\\n dated</th>\n      <th>Client Name</th>\n      <th>Amount</th>\n      <th>Currency</th>\n      <th>Type</th>\n      <th>Bank/Cash</th>\n      <th>Note</th>\n      <th>Place number</th>\n      <th>Số tiền</th>\n      <th>Số hồ sơ BT/Số đơn</th>\n      <th>Kỳ TT</th>\n      <th>Mã KH</th>\n      <th>Tài khoản</th>\n      <th>Hạch toán nợ ghi số dương, hạch toán có ghi số âm</th>\n      <th>Unnamed: 15</th>\n      <th>Unnamed: 16</th>\n      <th>Unnamed: 17</th>\n      <th>Unnamed: 18</th>\n    </tr>\n  </thead>\n  <tbody>\n    <tr>\n      <th>0</th>\n      <td>1.0</td>\n      <td>2</td>\n      <td>3</td>\n      <td>4.000000e+00</td>\n      <td>5</td>\n      <td>6.0</td>\n      <td>7</td>\n      <td>8</td>\n      <td>9</td>\n      <td>10.0</td>\n      <td>11</td>\n      <td>12</td>\n      <td>13</td>\n      <td>14.0</td>\n      <td>NaN</td>\n      <td>NaN</td>\n      <td>NaN</td>\n      <td>NaN</td>\n      <td>NaN</td>\n    </tr>\n    <tr>\n      <th>1</th>\n      <td>1.0</td>\n      <td>2020-09-01 00:00:00</td>\n      <td>CONG TY TNHH THUONG MAI ACS VIET NAM</td>\n      <td>2.400000e+04</td>\n      <td>VND</td>\n      <td>NaN</td>\n      <td>VID</td>\n      <td>hoa hong dai ly t7/2020 inv 0004140</td>\n      <td>Commission</td>\n      <td>NaN</td>\n      <td>NaN</td>\n      <td>NaN</td>\n      <td>NaN</td>\n      <td>NaN</td>\n      <td>NaN</td>\n      <td>NaN</td>\n      <td>NaN</td>\n      <td>NaN</td>\n      <td>NaN</td>\n    </tr>\n    <tr>\n      <th>2</th>\n      <td>2.0</td>\n      <td>2020-09-01 00:00:00</td>\n      <td>CONG TY TNHH SHINDENGEN VIET NAM</td>\n      <td>1.725500e+08</td>\n      <td>VND</td>\n      <td>NaN</td>\n      <td>VID</td>\n      <td>UIC Hoàn phí bảo hiểm PAR190195HYD.CEN01</td>\n      <td>Refund</td>\n      <td>NaN</td>\n      <td>NaN</td>\n      <td>NaN</td>\n      <td>NaN</td>\n      <td>NaN</td>\n      <td>NaN</td>\n      <td>NaN</td>\n      <td>NaN</td>\n      <td>NaN</td>\n      <td>NaN</td>\n    </tr>\n    <tr>\n      <th>3</th>\n      <td>3.0</td>\n      <td>2020-09-01 00:00:00</td>\n      <td>DUONG THI THUY TIEN</td>\n      <td>2.466281e+06</td>\n      <td>VND</td>\n      <td>NaN</td>\n      <td>VID</td>\n      <td>tien boi thuong WCI200163HYD.003.CL01.BT.3</td>\n      <td>Claim</td>\n      <td>NaN</td>\n      <td>NaN</td>\n      <td>NaN</td>\n      <td>NaN</td>\n      <td>NaN</td>\n      <td>NaN</td>\n      <td>NaN</td>\n      <td>NaN</td>\n      <td>NaN</td>\n      <td>NaN</td>\n    </tr>\n    <tr>\n      <th>4</th>\n      <td>4.0</td>\n      <td>2020-09-01 00:00:00</td>\n      <td>CANON VIETNAM CO., LTD</td>\n      <td>4.630497e+06</td>\n      <td>VND</td>\n      <td>NaN</td>\n      <td>VID</td>\n      <td>tien boi thuong MCI2001HYD.06-002.CL01.BT.2</td>\n      <td>Claim</td>\n      <td>NaN</td>\n      <td>NaN</td>\n      <td>NaN</td>\n      <td>NaN</td>\n      <td>NaN</td>\n      <td>NaN</td>\n      <td>NaN</td>\n      <td>NaN</td>\n      <td>NaN</td>\n      <td>NaN</td>\n    </tr>\n    <tr>\n      <th>...</th>\n      <td>...</td>\n      <td>...</td>\n      <td>...</td>\n      <td>...</td>\n      <td>...</td>\n      <td>...</td>\n      <td>...</td>\n      <td>...</td>\n      <td>...</td>\n      <td>...</td>\n      <td>...</td>\n      <td>...</td>\n      <td>...</td>\n      <td>...</td>\n      <td>...</td>\n      <td>...</td>\n      <td>...</td>\n      <td>...</td>\n      <td>...</td>\n    </tr>\n    <tr>\n      <th>550</th>\n      <td>NaN</td>\n      <td>NaN</td>\n      <td>NaN</td>\n      <td>NaN</td>\n      <td>NaN</td>\n      <td>NaN</td>\n      <td>NaN</td>\n      <td>NaN</td>\n      <td>NaN</td>\n      <td>NaN</td>\n      <td>NaN</td>\n      <td>NaN</td>\n      <td>NaN</td>\n      <td>NaN</td>\n      <td>NaN</td>\n      <td>NaN</td>\n      <td>NaN</td>\n      <td>NaN</td>\n      <td>NaN</td>\n    </tr>\n    <tr>\n      <th>551</th>\n      <td>NaN</td>\n      <td>NaN</td>\n      <td>NaN</td>\n      <td>NaN</td>\n      <td>NaN</td>\n      <td>NaN</td>\n      <td>NaN</td>\n      <td>NaN</td>\n      <td>NaN</td>\n      <td>NaN</td>\n      <td>NaN</td>\n      <td>NaN</td>\n      <td>NaN</td>\n      <td>NaN</td>\n      <td>NaN</td>\n      <td>NaN</td>\n      <td>NaN</td>\n      <td>NaN</td>\n      <td>NaN</td>\n    </tr>\n    <tr>\n      <th>552</th>\n      <td>NaN</td>\n      <td>NaN</td>\n      <td>Sub total:</td>\n      <td>2.250722e+10</td>\n      <td>VND</td>\n      <td>NaN</td>\n      <td>NaN</td>\n      <td>NaN</td>\n      <td>NaN</td>\n      <td>NaN</td>\n      <td>NaN</td>\n      <td>NaN</td>\n      <td>NaN</td>\n      <td>NaN</td>\n      <td>NaN</td>\n      <td>NaN</td>\n      <td>NaN</td>\n      <td>NaN</td>\n      <td>NaN</td>\n    </tr>\n    <tr>\n      <th>553</th>\n      <td>NaN</td>\n      <td>NaN</td>\n      <td>NaN</td>\n      <td>1.171292e+06</td>\n      <td>USD</td>\n      <td>NaN</td>\n      <td>NaN</td>\n      <td>NaN</td>\n      <td>NaN</td>\n      <td>NaN</td>\n      <td>NaN</td>\n      <td>NaN</td>\n      <td>NaN</td>\n      <td>NaN</td>\n      <td>NaN</td>\n      <td>NaN</td>\n      <td>NaN</td>\n      <td>NaN</td>\n      <td>NaN</td>\n    </tr>\n    <tr>\n      <th>554</th>\n      <td>NaN</td>\n      <td>NaN</td>\n      <td>NaN</td>\n      <td>0.000000e+00</td>\n      <td>JPY</td>\n      <td>NaN</td>\n      <td>NaN</td>\n      <td>NaN</td>\n      <td>NaN</td>\n      <td>NaN</td>\n      <td>NaN</td>\n      <td>`</td>\n      <td>NaN</td>\n      <td>NaN</td>\n      <td>NaN</td>\n      <td>NaN</td>\n      <td>NaN</td>\n      <td>NaN</td>\n      <td>NaN</td>\n    </tr>\n  </tbody>\n</table>\n<p>555 rows × 19 columns</p>\n</div>"
     },
     "metadata": {},
     "execution_count": 133
    }
   ],
   "source": [
    "dfPaidList"
   ]
  },
  {
   "cell_type": "code",
   "execution_count": 126,
   "metadata": {},
   "outputs": [
    {
     "output_type": "execute_result",
     "data": {
      "text/plain": "    Ngày chứng từ                   Số đơn       Số đơn HT       Số đơn ĐT  \\\n0      2020-09-29                      NaN             NaN   VND49.901.801   \n1      2020-09-29                      NaN             NaN             NaN   \n2      2020-09-29                      NaN             NaN             NaN   \n3      2020-09-29                      NaN             NaN             NaN   \n4      2020-09-29                      NaN  350.435.266VND  350.435.266VND   \n..            ...                      ...             ...             ...   \n957    2020-09-29         WCI190472SYDEN01             NaN             NaN   \n958    2020-09-29       PAR200022HYD.CEN02             NaN             NaN   \n959    2020-09-29  FFL190075SYD2020.08EN01             NaN             NaN   \n960    2020-09-29   GOL190345SYD.CL01.BT.2             NaN             NaN   \n961    2020-09-29   GOL190345SYD.CL02.BT.1             NaN             NaN   \n\n      TK Nợ   TK Có       Số tiền Loại tiền   Số tiền VND  \n0    338888  112131  4.990180e+07       VND  4.990180e+07  \n1    112111  112134  1.600000e+09       VND  1.600000e+09  \n2    642722  112131  1.562760e+05       VND  1.562760e+05  \n3    133116  112131  1.562700e+04       VND  1.562700e+04  \n4    138888  112114  3.504353e+08       VND  3.504353e+08  \n..      ...     ...           ...       ...           ...  \n957  624142  331511  3.294758e+06       VND  3.294758e+06  \n958  624142  331511  2.269000e+01       USD  5.282460e+05  \n959  331211  112131  6.944090e+05       VND  6.944090e+05  \n960  624111  111112  3.652400e+06       VND  3.652400e+06  \n961  624111  111112  7.780000e+05       VND  7.780000e+05  \n\n[962 rows x 9 columns]",
      "text/html": "<div>\n<style scoped>\n    .dataframe tbody tr th:only-of-type {\n        vertical-align: middle;\n    }\n\n    .dataframe tbody tr th {\n        vertical-align: top;\n    }\n\n    .dataframe thead th {\n        text-align: right;\n    }\n</style>\n<table border=\"1\" class=\"dataframe\">\n  <thead>\n    <tr style=\"text-align: right;\">\n      <th></th>\n      <th>Ngày chứng từ</th>\n      <th>Số đơn</th>\n      <th>Số đơn HT</th>\n      <th>Số đơn ĐT</th>\n      <th>TK Nợ</th>\n      <th>TK Có</th>\n      <th>Số tiền</th>\n      <th>Loại tiền</th>\n      <th>Số tiền VND</th>\n    </tr>\n  </thead>\n  <tbody>\n    <tr>\n      <th>0</th>\n      <td>2020-09-29</td>\n      <td>NaN</td>\n      <td>NaN</td>\n      <td>VND49.901.801</td>\n      <td>338888</td>\n      <td>112131</td>\n      <td>4.990180e+07</td>\n      <td>VND</td>\n      <td>4.990180e+07</td>\n    </tr>\n    <tr>\n      <th>1</th>\n      <td>2020-09-29</td>\n      <td>NaN</td>\n      <td>NaN</td>\n      <td>NaN</td>\n      <td>112111</td>\n      <td>112134</td>\n      <td>1.600000e+09</td>\n      <td>VND</td>\n      <td>1.600000e+09</td>\n    </tr>\n    <tr>\n      <th>2</th>\n      <td>2020-09-29</td>\n      <td>NaN</td>\n      <td>NaN</td>\n      <td>NaN</td>\n      <td>642722</td>\n      <td>112131</td>\n      <td>1.562760e+05</td>\n      <td>VND</td>\n      <td>1.562760e+05</td>\n    </tr>\n    <tr>\n      <th>3</th>\n      <td>2020-09-29</td>\n      <td>NaN</td>\n      <td>NaN</td>\n      <td>NaN</td>\n      <td>133116</td>\n      <td>112131</td>\n      <td>1.562700e+04</td>\n      <td>VND</td>\n      <td>1.562700e+04</td>\n    </tr>\n    <tr>\n      <th>4</th>\n      <td>2020-09-29</td>\n      <td>NaN</td>\n      <td>350.435.266VND</td>\n      <td>350.435.266VND</td>\n      <td>138888</td>\n      <td>112114</td>\n      <td>3.504353e+08</td>\n      <td>VND</td>\n      <td>3.504353e+08</td>\n    </tr>\n    <tr>\n      <th>...</th>\n      <td>...</td>\n      <td>...</td>\n      <td>...</td>\n      <td>...</td>\n      <td>...</td>\n      <td>...</td>\n      <td>...</td>\n      <td>...</td>\n      <td>...</td>\n    </tr>\n    <tr>\n      <th>957</th>\n      <td>2020-09-29</td>\n      <td>WCI190472SYDEN01</td>\n      <td>NaN</td>\n      <td>NaN</td>\n      <td>624142</td>\n      <td>331511</td>\n      <td>3.294758e+06</td>\n      <td>VND</td>\n      <td>3.294758e+06</td>\n    </tr>\n    <tr>\n      <th>958</th>\n      <td>2020-09-29</td>\n      <td>PAR200022HYD.CEN02</td>\n      <td>NaN</td>\n      <td>NaN</td>\n      <td>624142</td>\n      <td>331511</td>\n      <td>2.269000e+01</td>\n      <td>USD</td>\n      <td>5.282460e+05</td>\n    </tr>\n    <tr>\n      <th>959</th>\n      <td>2020-09-29</td>\n      <td>FFL190075SYD2020.08EN01</td>\n      <td>NaN</td>\n      <td>NaN</td>\n      <td>331211</td>\n      <td>112131</td>\n      <td>6.944090e+05</td>\n      <td>VND</td>\n      <td>6.944090e+05</td>\n    </tr>\n    <tr>\n      <th>960</th>\n      <td>2020-09-29</td>\n      <td>GOL190345SYD.CL01.BT.2</td>\n      <td>NaN</td>\n      <td>NaN</td>\n      <td>624111</td>\n      <td>111112</td>\n      <td>3.652400e+06</td>\n      <td>VND</td>\n      <td>3.652400e+06</td>\n    </tr>\n    <tr>\n      <th>961</th>\n      <td>2020-09-29</td>\n      <td>GOL190345SYD.CL02.BT.1</td>\n      <td>NaN</td>\n      <td>NaN</td>\n      <td>624111</td>\n      <td>111112</td>\n      <td>7.780000e+05</td>\n      <td>VND</td>\n      <td>7.780000e+05</td>\n    </tr>\n  </tbody>\n</table>\n<p>962 rows × 9 columns</p>\n</div>"
     },
     "metadata": {},
     "execution_count": 126
    }
   ],
   "source": [
    "dfAcc"
   ]
  },
  {
   "cell_type": "code",
   "execution_count": 117,
   "metadata": {},
   "outputs": [],
   "source": [
    "values={'Số đơn':'0', 'Số đơn HT':'0','Số đơn ĐT':'0'}\n",
    "dfAcc=dfAcc.fillna(value=values)"
   ]
  },
  {
   "cell_type": "code",
   "execution_count": 141,
   "metadata": {},
   "outputs": [
    {
     "output_type": "error",
     "ename": "KeyError",
     "evalue": "'Column not found: Số chứng từ'",
     "traceback": [
      "\u001b[1;31m---------------------------------------------------------------------------\u001b[0m",
      "\u001b[1;31mKeyError\u001b[0m                                  Traceback (most recent call last)",
      "\u001b[1;32m<ipython-input-141-a51597ef3597>\u001b[0m in \u001b[0;36m<module>\u001b[1;34m\u001b[0m\n\u001b[1;32m----> 1\u001b[1;33m \u001b[0mdfAccGroupByVoucher\u001b[0m\u001b[1;33m=\u001b[0m\u001b[0mdfAccFinal\u001b[0m\u001b[1;33m.\u001b[0m\u001b[0mgroupby\u001b[0m\u001b[1;33m(\u001b[0m\u001b[1;33m[\u001b[0m\u001b[1;34m'Ngày chứng từ'\u001b[0m\u001b[1;33m,\u001b[0m\u001b[1;34m'Policy'\u001b[0m\u001b[1;33m,\u001b[0m\u001b[1;34m'Loại tiền'\u001b[0m\u001b[1;33m]\u001b[0m\u001b[1;33m,\u001b[0m\u001b[0mas_index\u001b[0m\u001b[1;33m=\u001b[0m\u001b[1;32mFalse\u001b[0m\u001b[1;33m)\u001b[0m\u001b[1;33m[\u001b[0m\u001b[1;34m'Số chứng từ'\u001b[0m\u001b[1;33m]\u001b[0m\u001b[1;33m.\u001b[0m\u001b[0mtransform\u001b[0m\u001b[1;33m(\u001b[0m\u001b[1;32mlambda\u001b[0m \u001b[0mx\u001b[0m\u001b[1;33m:\u001b[0m \u001b[1;34m','\u001b[0m\u001b[1;33m.\u001b[0m\u001b[0mjoin\u001b[0m\u001b[1;33m(\u001b[0m\u001b[0mx\u001b[0m\u001b[1;33m)\u001b[0m\u001b[1;33m)\u001b[0m\u001b[1;33m\u001b[0m\u001b[1;33m\u001b[0m\u001b[0m\n\u001b[0m",
      "\u001b[1;32m~\\AppData\\Local\\Packages\\PythonSoftwareFoundation.Python.3.8_qbz5n2kfra8p0\\LocalCache\\local-packages\\Python38\\site-packages\\pandas\\core\\groupby\\generic.py\u001b[0m in \u001b[0;36m__getitem__\u001b[1;34m(self, key)\u001b[0m\n\u001b[0;32m   1611\u001b[0m                 \u001b[0mstacklevel\u001b[0m\u001b[1;33m=\u001b[0m\u001b[1;36m2\u001b[0m\u001b[1;33m,\u001b[0m\u001b[1;33m\u001b[0m\u001b[1;33m\u001b[0m\u001b[0m\n\u001b[0;32m   1612\u001b[0m             )\n\u001b[1;32m-> 1613\u001b[1;33m         \u001b[1;32mreturn\u001b[0m \u001b[0msuper\u001b[0m\u001b[1;33m(\u001b[0m\u001b[1;33m)\u001b[0m\u001b[1;33m.\u001b[0m\u001b[0m__getitem__\u001b[0m\u001b[1;33m(\u001b[0m\u001b[0mkey\u001b[0m\u001b[1;33m)\u001b[0m\u001b[1;33m\u001b[0m\u001b[1;33m\u001b[0m\u001b[0m\n\u001b[0m\u001b[0;32m   1614\u001b[0m \u001b[1;33m\u001b[0m\u001b[0m\n\u001b[0;32m   1615\u001b[0m     \u001b[1;32mdef\u001b[0m \u001b[0m_gotitem\u001b[0m\u001b[1;33m(\u001b[0m\u001b[0mself\u001b[0m\u001b[1;33m,\u001b[0m \u001b[0mkey\u001b[0m\u001b[1;33m,\u001b[0m \u001b[0mndim\u001b[0m\u001b[1;33m:\u001b[0m \u001b[0mint\u001b[0m\u001b[1;33m,\u001b[0m \u001b[0msubset\u001b[0m\u001b[1;33m=\u001b[0m\u001b[1;32mNone\u001b[0m\u001b[1;33m)\u001b[0m\u001b[1;33m:\u001b[0m\u001b[1;33m\u001b[0m\u001b[1;33m\u001b[0m\u001b[0m\n",
      "\u001b[1;32m~\\AppData\\Local\\Packages\\PythonSoftwareFoundation.Python.3.8_qbz5n2kfra8p0\\LocalCache\\local-packages\\Python38\\site-packages\\pandas\\core\\base.py\u001b[0m in \u001b[0;36m__getitem__\u001b[1;34m(self, key)\u001b[0m\n\u001b[0;32m    232\u001b[0m         \u001b[1;32melif\u001b[0m \u001b[1;32mnot\u001b[0m \u001b[0mgetattr\u001b[0m\u001b[1;33m(\u001b[0m\u001b[0mself\u001b[0m\u001b[1;33m,\u001b[0m \u001b[1;34m\"as_index\"\u001b[0m\u001b[1;33m,\u001b[0m \u001b[1;32mFalse\u001b[0m\u001b[1;33m)\u001b[0m\u001b[1;33m:\u001b[0m\u001b[1;33m\u001b[0m\u001b[1;33m\u001b[0m\u001b[0m\n\u001b[0;32m    233\u001b[0m             \u001b[1;32mif\u001b[0m \u001b[0mkey\u001b[0m \u001b[1;32mnot\u001b[0m \u001b[1;32min\u001b[0m \u001b[0mself\u001b[0m\u001b[1;33m.\u001b[0m\u001b[0mobj\u001b[0m\u001b[1;33m.\u001b[0m\u001b[0mcolumns\u001b[0m\u001b[1;33m:\u001b[0m\u001b[1;33m\u001b[0m\u001b[1;33m\u001b[0m\u001b[0m\n\u001b[1;32m--> 234\u001b[1;33m                 \u001b[1;32mraise\u001b[0m \u001b[0mKeyError\u001b[0m\u001b[1;33m(\u001b[0m\u001b[1;34mf\"Column not found: {key}\"\u001b[0m\u001b[1;33m)\u001b[0m\u001b[1;33m\u001b[0m\u001b[1;33m\u001b[0m\u001b[0m\n\u001b[0m\u001b[0;32m    235\u001b[0m             \u001b[1;32mreturn\u001b[0m \u001b[0mself\u001b[0m\u001b[1;33m.\u001b[0m\u001b[0m_gotitem\u001b[0m\u001b[1;33m(\u001b[0m\u001b[0mkey\u001b[0m\u001b[1;33m,\u001b[0m \u001b[0mndim\u001b[0m\u001b[1;33m=\u001b[0m\u001b[1;36m2\u001b[0m\u001b[1;33m)\u001b[0m\u001b[1;33m\u001b[0m\u001b[1;33m\u001b[0m\u001b[0m\n\u001b[0;32m    236\u001b[0m \u001b[1;33m\u001b[0m\u001b[0m\n",
      "\u001b[1;31mKeyError\u001b[0m: 'Column not found: Số chứng từ'"
     ]
    }
   ],
   "source": [
    "dfAccGroupByVoucher=dfAccFinal.groupby(['Ngày chứng từ','Policy','Loại tiền'],as_index=False)['Số chứng từ'].transform(lambda x: ','.join(x))"
   ]
  },
  {
   "cell_type": "code",
   "execution_count": 142,
   "metadata": {
    "tags": []
   },
   "outputs": [
    {
     "output_type": "stream",
     "name": "stderr",
     "text": "Exception in Tkinter callback\nTraceback (most recent call last):\n  File \"C:\\Program Files\\WindowsApps\\PythonSoftwareFoundation.Python.3.8_3.8.1776.0_x64__qbz5n2kfra8p0\\lib\\tkinter\\__init__.py\", line 1883, in __call__\n    return self.func(*args)\n  File \"<ipython-input-142-786e5410f416>\", line 158, in click_execute\n    dfAccGroupByVoucher=dfAccFinal.groupby(['Ngày chứng từ','Policy','Loại tiền'],as_index=False)['Số chứng từ'].transform(lambda x: ','.join(x))\n  File \"C:\\Users\\tuandq\\AppData\\Local\\Packages\\PythonSoftwareFoundation.Python.3.8_qbz5n2kfra8p0\\LocalCache\\local-packages\\Python38\\site-packages\\pandas\\core\\groupby\\generic.py\", line 1613, in __getitem__\n    return super().__getitem__(key)\n  File \"C:\\Users\\tuandq\\AppData\\Local\\Packages\\PythonSoftwareFoundation.Python.3.8_qbz5n2kfra8p0\\LocalCache\\local-packages\\Python38\\site-packages\\pandas\\core\\base.py\", line 234, in __getitem__\n    raise KeyError(f\"Column not found: {key}\")\nKeyError: 'Column not found: Số chứng từ'\n"
    }
   ],
   "source": [
    "import tkinter as tk\n",
    "from tkinter import ttk\n",
    "from tkinter import filedialog as fd\n",
    "from tkinter import filedialog as fd\n",
    "from numpy.core.defchararray import startswith\n",
    "from numpy.core.numeric import outer\n",
    "import pyxlsb\n",
    "import pandas as pd\n",
    "import numpy as np\n",
    "import subprocess\n",
    "import numpy as np\n",
    "\n",
    "\n",
    "\n",
    "\n",
    "\n",
    "win = tk.Tk()\n",
    "win.title(\"Đối chiếu Paid list\")\n",
    "#-------------------------------------------------------------Declare global variables ------------------------------\n",
    "\n",
    "paidListFile = ''\n",
    "paidListFileUseCol=['Paid dated','Số hồ sơ BT/Số đơn','Currency','Số tiền']\n",
    "paidListFileUseColDataType={'Paid dated': np.datetime64, 'Note': object , 'Currency' : object, 'Amount': np.float64 }\n",
    "\n",
    "accFile = ''\n",
    "accFileUseCol=['Ngày chứng từ','Số chứng từ','Số đơn', 'Số đơn HT', 'Số đơn ĐT','Loại tiền', 'TK Nợ', 'TK Có', 'Số tiền', 'Số tiền VND']\n",
    "accFileUseColDataType={'Ngày chứng từ':np.datetime64,'TK Nợ':object,'Loại tiền': object, 'TK Có':object, 'Số tiền':np.float64, 'Số tiền VND':np.float64}\n",
    "savingFolder = ''\n",
    "savingFileName=''\n",
    "#radPremiumOrOthers=''\n",
    "dfPaidList=pd.DataFrame\n",
    "dfAcc=pd.DataFrame\n",
    "dfAccFinal=pd.DataFrame\n",
    "dfPaidListFinal=pd.DataFrame\n",
    "dfPaidListGroupBy=pd.DataFrame\n",
    "dfMerge=pd.DataFrame\n",
    "dfAccGroupByVoucher=pd.DataFrame\n",
    "\n",
    "fullOrLeft=''\n",
    "\n",
    "#------------------------------------------------------------- Widget event handle------------------------------------\n",
    "\n",
    "\n",
    "def click_select_cpc():\n",
    "    global paidListFile\n",
    "    paidListFile = fd.askopenfilename()\n",
    "\n",
    "\n",
    "def click_select_acc():\n",
    "    global accFile\n",
    "    accFile = fd.askopenfilename()\n",
    "\n",
    "\n",
    "def click_save_file():\n",
    "    global savingFolder\n",
    "    savingFolder = fd.askdirectory()\n",
    "    #print(saving_folder)\n",
    "\n",
    "def button_open_saved_file_click():\n",
    "    subprocess.Popen([f\"{savingFolder}/{savingFileName.get()}.csv\"], shell=True)\n",
    "    win.destroy()\n",
    "\n",
    "def rad_select_full_click():\n",
    "    global fullOrLeft\n",
    "    fullOrLeft = RadFullOrLeft.get() # return 'full'\n",
    "\n",
    "\n",
    "def rad_select_left_click():\n",
    "    global fullOrLeft\n",
    "    fullOrLeft = RadFullOrLeft.get() # return 'left'\n",
    "\n",
    "def return_policy(soDonHachToan, soDonDoiTru, soDon, taiKhoanNo, taiKhoanCo):\n",
    "    if len(soDonHachToan) < 2 and len(soDonDoiTru) < 2:\n",
    "        return soDon\n",
    "    elif len(soDonHachToan) < 2 and len(soDon) < 2:\n",
    "        return soDonDoiTru\n",
    "    elif len(soDon) < 2 and len(soDonDoiTru) < 2:\n",
    "        return soDonHachToan\n",
    "    elif taiKhoanCo.startswith('112'): # TK no -> 'So don DT', TK co -> 'So don HT'\n",
    "        if len(soDonDoiTru)>2:\n",
    "            return soDonDoiTru\n",
    "        else:\n",
    "            return soDon\n",
    "    elif taiKhoanNo.startswith('112'): # TK no -> 'So don DT', TK co -> 'So don HT'\n",
    "        if len(soDonHachToan)>2:\n",
    "            return soDonHachToan\n",
    "        else:\n",
    "            return soDon\n",
    "    else:\n",
    "        return\n",
    "\n",
    "\n",
    "def return_account(taiKhoanNo,taiKhoanCo):\n",
    "    if taiKhoanNo.startswith('112'):\n",
    "        return taiKhoanNo\n",
    "    elif taiKhoanCo.startswith('112'):\n",
    "        return taiKhoanCo\n",
    "    else:\n",
    "        return 'TaiKhoanKhac'\n",
    "\n",
    "\n",
    "def return_account_du(taiKhoanNo,taiKhoanCo):\n",
    "    if taiKhoanNo.startswith('112'):\n",
    "        return taiKhoanCo\n",
    "    elif taiKhoanCo.startswith('112'):\n",
    "        return taiKhoanNo\n",
    "    else:\n",
    "        return 'TaiKhoanKhac'\n",
    "\n",
    "def return_amount(taiKHoanNo,taiKhoanCo,soTien):\n",
    "    if taiKHoanNo.startswith('112'):\n",
    "        return soTien\n",
    "    elif taiKhoanCo.startswith('112'):\n",
    "        return -soTien\n",
    "    else:\n",
    "        return 0\n",
    "\n",
    "\n",
    "\n",
    "def click_execute():\n",
    "    from tkinter import messagebox as msg\n",
    "    global dfAccFinal\n",
    "    global dfPaidListFinal\n",
    "    global dfPaidList\n",
    "    global dfAcc\n",
    "    global dfPaidListGroupBy\n",
    "    global dfAccGroupByVoucher\n",
    "    global dfMerge\n",
    "    global paidListFile\n",
    "    global accFile\n",
    "    global savingFolder\n",
    "    global savingFileName\n",
    "\n",
    "    #name=['No','Paid dated','Client Name','Amount','Currency','Type','Bank/Cash','Note','Số tiền','Place number','Số hồ sơ BT/Số đơn','Kỳ TT','Mã KH','Tài khoản']\n",
    "    try:\n",
    "        if paidListFile.endswith('xlsb'):\n",
    "            dfPaidList = pd.read_excel(paidListFile, usecols=paidListFileUseCol,sheet_name='Claim paid', skiprows=1,engine='pyxlsb')\n",
    "        else:\n",
    "            dfPaidList = pd.read_excel(paidListFile, usecols=paidListFileUseCol,sheet_name='Claim paid', skiprows=1)\n",
    "                  \n",
    "        if accFile.endswith('xlsb'):\n",
    "            dfAcc = pd.read_excel(accFile,usecols=accFileUseCol,skiprows=6,dtype=accFileUseColDataType, engine='pyxlsb')\n",
    "        else:\n",
    "            dfAcc = pd.read_excel(accFile,usecols=accFileUseCol,skiprows=6,dtype=accFileUseColDataType)\n",
    "    except:\n",
    "        msg.showerror(\"Error\", \"Only Excel files or CSV files are supported\")\n",
    "        pass\n",
    "\n",
    "    values={'Số đơn':'0', 'Số đơn HT':'0','Số đơn ĐT':'0'}\n",
    "    dfAcc=dfAcc.fillna(value=values)\n",
    "    dfAcc=dfAcc.loc[dfAcc['TK Có'].str.startswith('112')]\n",
    "    dfAcc['Policy']=dfAcc.apply(lambda x: return_policy(x['Số đơn'], x['Số đơn HT'], x['Số đơn ĐT'], x['TK Nợ'], x['TK Có']), axis=1)\n",
    "    dfAcc['Tai khoan']=dfAcc.apply(lambda x: return_account(x['TK Nợ'], x['TK Có']), axis=1)  \n",
    "    dfAcc['Tai khoan doi ung']=dfAcc.apply(lambda x: return_account_du(x['TK Nợ'], x['TK Có']), axis=1)  \n",
    "    dfAcc['So tien NT']=dfAcc.apply(lambda x: return_amount(x['TK Nợ'], x['TK Có'],x['Số tiền']), axis=1) \n",
    "    dfAcc['So tien VND']=dfAcc.apply(lambda x: return_amount(x['TK Nợ'], x['TK Có'],x['Số tiền VND']), axis=1) \n",
    "    dfAccFinal=dfAcc.loc[(dfAcc['Tai khoan']!='TaiKhoanKhac') & (dfAcc['Tai khoan doi ung'].str.startswith(('624','331','333','131','133','138','338'))),['Ngày chứng từ','Policy','Loại tiền','So tien NT']] \n",
    "    dfAccGroupByVoucher=dfAccFinal.groupby(['Ngày chứng từ','Policy','Loại tiền'],as_index=False)['Số chứng từ'].transform(lambda x: ','.join(x))\n",
    "    \n",
    "    dfPaidList=dfPaidList[dfPaidList['Số hồ sơ BT/Số đơn'].notna()]\n",
    "    a=np.datetime64('2000-01-01')\n",
    "    values={'Paid dated':a ,'Số hồ sơ BT/Số đơn': '0','Currency':'0','Số tiền':0}\n",
    "    dfPaidList=dfPaidList.fillna(value=values)\n",
    "    dfPaidListGroupBy=dfPaidList.groupby(['Paid dated','Số hồ sơ BT/Số đơn','Currency'],as_index=False)['Số tiền'].sum()\n",
    "    if fullOrLeft=='full':\n",
    "        dfMerge=dfPaidListGroupBy.merge(dfAccFinalGroupby,how='outer',left_on=['Paid dated','Số hồ sơ BT/Số đơn','Currency'],right_on=['Ngày chứng từ','Policy','Loại tiền'],suffixes=['PL','ACC'])\n",
    "    else:\n",
    "        dfMerge=dfPaidListGroupBy.merge(dfAccFinalGroupby,how='left',left_on=['Paid dated','Số hồ sơ BT/Số đơn','Currency'],right_on=['Ngày chứng từ','Policy','Loại tiền'],suffixes=['PL','ACC'])\n",
    "    dfMerge['Chenh lech']=dfMerge['Số tiền']+dfMerge['So tien NT']\n",
    "    dfMerge.to_csv(f\"{savingFolder}/{savingFileName.get()}.csv\", encoding=\"utf-8-sig\", index=False)\n",
    "    msg.showinfo(\"Information\", \"Đã hoàn thành\")\n",
    "    subprocess.Popen([f\"{savingFolder}/{savingFileName.get()}.csv\"], shell=True)\n",
    "    \n",
    "    paidListFile = ''\n",
    "    accFile = ''\n",
    "    savingFolder = ''\n",
    "    savingFileName=''\n",
    "    #radPremiumOrOthers=''\n",
    "    #dfPaidList=pd.DataFrame\n",
    "    #dfAcc=pd.DataFrame\n",
    "    #dfAccFinal=pd.DataFrame\n",
    "    #dfPaidListFinal=pd.DataFrame\n",
    "    #dfPaidListGroupBy=pd.DataFrame\n",
    "\n",
    "\n",
    "# ----------------------------------------------------------------- Widget------------------------------------------------\n",
    "\n",
    "RadFullOrLeft = tk.StringVar()\n",
    "\n",
    "\n",
    "rad_select_full = ttk.Radiobutton(win, text='Full', width=30, value='full', variable=RadFullOrLeft, command=rad_select_full_click)\n",
    "rad_select_full.grid(column=0, row=0)\n",
    "\n",
    "rad_select_claim = ttk.Radiobutton(win, text='Left', width=30, value='left', variable=RadFullOrLeft, command=rad_select_left_click)\n",
    "rad_select_claim.grid(column=1, row=0)\n",
    "\n",
    "ttk.Label(win, text=\"Chọn file Paid list\", width=20).grid(column=0, row=1)\n",
    "button1 = ttk.Button(win, text=\"Paid list\", width=20, command=click_select_cpc)\n",
    "button1.grid(column=1, row=1)\n",
    "\n",
    "ttk.Label(win, text=\"Chọn file CTGS\", width=20).grid(column=0, row=2)\n",
    "button2 = ttk.Button(win, text=\"CTGS\", width=20, command=click_select_acc)\n",
    "button2.grid(column=1, row=2)\n",
    "\n",
    "ttk.Label(win, text=\"Chọn thư mục lưu file\", width=20).grid(column=0, row=3)\n",
    "button2 = ttk.Button(win, text=\"Folder\", width=20, command=click_save_file)\n",
    "button2.grid(column=1, row=3)\n",
    "\n",
    "ttk.Label(win, text=\"Nhập tên file\", width=20).grid(column=0, row=4)\n",
    "savingFileName = ttk.Entry(win, width=20)\n",
    "savingFileName.grid(column=1, row=4)\n",
    "\n",
    "ttk.Label(win, text=\"Xử lý số liệu\", width=20).grid(column=0, row=5)\n",
    "button3 = ttk.Button(win, text=\"Run\", width=20, command=click_execute)\n",
    "button3.grid(column=1, row=5)\n",
    "\n",
    "label_open_saved_file = ttk.Label(win, text=\"Mở file\", width=20).grid(column=0, row=6)\n",
    "button_open_saved_file = ttk.Button(win, text=\"Mở file\", width=20, command=button_open_saved_file_click)\n",
    "button_open_saved_file.grid(column=1, row=6)\n",
    "\n",
    "\n",
    "\n",
    "\n",
    "win.mainloop()"
   ]
  },
  {
   "cell_type": "code",
   "execution_count": 143,
   "metadata": {},
   "outputs": [
    {
     "output_type": "execute_result",
     "data": {
      "text/plain": "         Số chứng từ Ngày chứng từ                                 Số đơn  \\\n0      04.09_20.0104    2020-09-28                                      0   \n1      04.09_20.0105    2020-09-28                                      0   \n2      04.09_20.0128    2020-09-29                                      0   \n3      04.09_20.0130    2020-09-29                                      0   \n4      04.09_20.0154    2020-09-28  TT TIEN MUA QUA TRUNG THU INV 0049465   \n...              ...           ...                                    ...   \n1523  603.09_20.0002    2020-09-28               PAR180005HBF.C.CL01.BT.4   \n1525  605.09_20.0046    2020-09-28        WCI180002HYD_HOYA.004.CL01.BT.6   \n1526  605.09_20.0047    2020-09-28        WCI200002HYD_HOYA.001.CL29.BT.2   \n1527  605.09_20.0049    2020-09-28        WCI200002HYD_HOYA.001.CL22.BT.2   \n1528  605.09_20.0050    2020-09-28             PAI190002HYD.001.CL09.BT.3   \n\n     Số đơn HT      Số đơn ĐT   TK Nợ   TK Có       Số tiền Loại tiền  \\\n0            0              0  642722  112261  1.210000e+02       JPY   \n1            0              0  642722  112281  9.100000e-01       EUR   \n2            0  VND49.901.801  338888  112131  4.990180e+07       VND   \n3            0              0  112111  112134  1.600000e+09       VND   \n4            0              0  642813  112114  2.361600e+07       VND   \n...        ...            ...     ...     ...           ...       ...   \n1523         0              0  624112  112114  2.250000e+06       VND   \n1525         0              0  331111  112114  1.119763e+07       VND   \n1526         0              0  331111  112114  1.840400e+06       VND   \n1527         0              0  331111  112114  9.831000e+05       VND   \n1528         0              0  331111  112114  1.015200e+07       VND   \n\n       Số tiền VND                                 Policy Tai khoan  \\\n0     2.722500e+04                                      0    112261   \n1     2.523300e+04                                      0    112281   \n2     4.990180e+07                          VND49.901.801    112131   \n3     1.600000e+09                                      0    112111   \n4     2.361600e+07  TT TIEN MUA QUA TRUNG THU INV 0049465    112114   \n...            ...                                    ...       ...   \n1523  2.250000e+06               PAR180005HBF.C.CL01.BT.4    112114   \n1525  1.119763e+07        WCI180002HYD_HOYA.004.CL01.BT.6    112114   \n1526  1.840400e+06        WCI200002HYD_HOYA.001.CL29.BT.2    112114   \n1527  9.831000e+05        WCI200002HYD_HOYA.001.CL22.BT.2    112114   \n1528  1.015200e+07             PAI190002HYD.001.CL09.BT.3    112114   \n\n     Tai khoan doi ung    So tien NT   So tien VND  \n0               642722 -1.210000e+02 -2.722500e+04  \n1               642722 -9.100000e-01 -2.523300e+04  \n2               338888 -4.990180e+07 -4.990180e+07  \n3               112134  1.600000e+09  1.600000e+09  \n4               642813 -2.361600e+07 -2.361600e+07  \n...                ...           ...           ...  \n1523            624112 -2.250000e+06 -2.250000e+06  \n1525            331111 -1.119763e+07 -1.119763e+07  \n1526            331111 -1.840400e+06 -1.840400e+06  \n1527            331111 -9.831000e+05 -9.831000e+05  \n1528            331111 -1.015200e+07 -1.015200e+07  \n\n[226 rows x 15 columns]",
      "text/html": "<div>\n<style scoped>\n    .dataframe tbody tr th:only-of-type {\n        vertical-align: middle;\n    }\n\n    .dataframe tbody tr th {\n        vertical-align: top;\n    }\n\n    .dataframe thead th {\n        text-align: right;\n    }\n</style>\n<table border=\"1\" class=\"dataframe\">\n  <thead>\n    <tr style=\"text-align: right;\">\n      <th></th>\n      <th>Số chứng từ</th>\n      <th>Ngày chứng từ</th>\n      <th>Số đơn</th>\n      <th>Số đơn HT</th>\n      <th>Số đơn ĐT</th>\n      <th>TK Nợ</th>\n      <th>TK Có</th>\n      <th>Số tiền</th>\n      <th>Loại tiền</th>\n      <th>Số tiền VND</th>\n      <th>Policy</th>\n      <th>Tai khoan</th>\n      <th>Tai khoan doi ung</th>\n      <th>So tien NT</th>\n      <th>So tien VND</th>\n    </tr>\n  </thead>\n  <tbody>\n    <tr>\n      <th>0</th>\n      <td>04.09_20.0104</td>\n      <td>2020-09-28</td>\n      <td>0</td>\n      <td>0</td>\n      <td>0</td>\n      <td>642722</td>\n      <td>112261</td>\n      <td>1.210000e+02</td>\n      <td>JPY</td>\n      <td>2.722500e+04</td>\n      <td>0</td>\n      <td>112261</td>\n      <td>642722</td>\n      <td>-1.210000e+02</td>\n      <td>-2.722500e+04</td>\n    </tr>\n    <tr>\n      <th>1</th>\n      <td>04.09_20.0105</td>\n      <td>2020-09-28</td>\n      <td>0</td>\n      <td>0</td>\n      <td>0</td>\n      <td>642722</td>\n      <td>112281</td>\n      <td>9.100000e-01</td>\n      <td>EUR</td>\n      <td>2.523300e+04</td>\n      <td>0</td>\n      <td>112281</td>\n      <td>642722</td>\n      <td>-9.100000e-01</td>\n      <td>-2.523300e+04</td>\n    </tr>\n    <tr>\n      <th>2</th>\n      <td>04.09_20.0128</td>\n      <td>2020-09-29</td>\n      <td>0</td>\n      <td>0</td>\n      <td>VND49.901.801</td>\n      <td>338888</td>\n      <td>112131</td>\n      <td>4.990180e+07</td>\n      <td>VND</td>\n      <td>4.990180e+07</td>\n      <td>VND49.901.801</td>\n      <td>112131</td>\n      <td>338888</td>\n      <td>-4.990180e+07</td>\n      <td>-4.990180e+07</td>\n    </tr>\n    <tr>\n      <th>3</th>\n      <td>04.09_20.0130</td>\n      <td>2020-09-29</td>\n      <td>0</td>\n      <td>0</td>\n      <td>0</td>\n      <td>112111</td>\n      <td>112134</td>\n      <td>1.600000e+09</td>\n      <td>VND</td>\n      <td>1.600000e+09</td>\n      <td>0</td>\n      <td>112111</td>\n      <td>112134</td>\n      <td>1.600000e+09</td>\n      <td>1.600000e+09</td>\n    </tr>\n    <tr>\n      <th>4</th>\n      <td>04.09_20.0154</td>\n      <td>2020-09-28</td>\n      <td>TT TIEN MUA QUA TRUNG THU INV 0049465</td>\n      <td>0</td>\n      <td>0</td>\n      <td>642813</td>\n      <td>112114</td>\n      <td>2.361600e+07</td>\n      <td>VND</td>\n      <td>2.361600e+07</td>\n      <td>TT TIEN MUA QUA TRUNG THU INV 0049465</td>\n      <td>112114</td>\n      <td>642813</td>\n      <td>-2.361600e+07</td>\n      <td>-2.361600e+07</td>\n    </tr>\n    <tr>\n      <th>...</th>\n      <td>...</td>\n      <td>...</td>\n      <td>...</td>\n      <td>...</td>\n      <td>...</td>\n      <td>...</td>\n      <td>...</td>\n      <td>...</td>\n      <td>...</td>\n      <td>...</td>\n      <td>...</td>\n      <td>...</td>\n      <td>...</td>\n      <td>...</td>\n      <td>...</td>\n    </tr>\n    <tr>\n      <th>1523</th>\n      <td>603.09_20.0002</td>\n      <td>2020-09-28</td>\n      <td>PAR180005HBF.C.CL01.BT.4</td>\n      <td>0</td>\n      <td>0</td>\n      <td>624112</td>\n      <td>112114</td>\n      <td>2.250000e+06</td>\n      <td>VND</td>\n      <td>2.250000e+06</td>\n      <td>PAR180005HBF.C.CL01.BT.4</td>\n      <td>112114</td>\n      <td>624112</td>\n      <td>-2.250000e+06</td>\n      <td>-2.250000e+06</td>\n    </tr>\n    <tr>\n      <th>1525</th>\n      <td>605.09_20.0046</td>\n      <td>2020-09-28</td>\n      <td>WCI180002HYD_HOYA.004.CL01.BT.6</td>\n      <td>0</td>\n      <td>0</td>\n      <td>331111</td>\n      <td>112114</td>\n      <td>1.119763e+07</td>\n      <td>VND</td>\n      <td>1.119763e+07</td>\n      <td>WCI180002HYD_HOYA.004.CL01.BT.6</td>\n      <td>112114</td>\n      <td>331111</td>\n      <td>-1.119763e+07</td>\n      <td>-1.119763e+07</td>\n    </tr>\n    <tr>\n      <th>1526</th>\n      <td>605.09_20.0047</td>\n      <td>2020-09-28</td>\n      <td>WCI200002HYD_HOYA.001.CL29.BT.2</td>\n      <td>0</td>\n      <td>0</td>\n      <td>331111</td>\n      <td>112114</td>\n      <td>1.840400e+06</td>\n      <td>VND</td>\n      <td>1.840400e+06</td>\n      <td>WCI200002HYD_HOYA.001.CL29.BT.2</td>\n      <td>112114</td>\n      <td>331111</td>\n      <td>-1.840400e+06</td>\n      <td>-1.840400e+06</td>\n    </tr>\n    <tr>\n      <th>1527</th>\n      <td>605.09_20.0049</td>\n      <td>2020-09-28</td>\n      <td>WCI200002HYD_HOYA.001.CL22.BT.2</td>\n      <td>0</td>\n      <td>0</td>\n      <td>331111</td>\n      <td>112114</td>\n      <td>9.831000e+05</td>\n      <td>VND</td>\n      <td>9.831000e+05</td>\n      <td>WCI200002HYD_HOYA.001.CL22.BT.2</td>\n      <td>112114</td>\n      <td>331111</td>\n      <td>-9.831000e+05</td>\n      <td>-9.831000e+05</td>\n    </tr>\n    <tr>\n      <th>1528</th>\n      <td>605.09_20.0050</td>\n      <td>2020-09-28</td>\n      <td>PAI190002HYD.001.CL09.BT.3</td>\n      <td>0</td>\n      <td>0</td>\n      <td>331111</td>\n      <td>112114</td>\n      <td>1.015200e+07</td>\n      <td>VND</td>\n      <td>1.015200e+07</td>\n      <td>PAI190002HYD.001.CL09.BT.3</td>\n      <td>112114</td>\n      <td>331111</td>\n      <td>-1.015200e+07</td>\n      <td>-1.015200e+07</td>\n    </tr>\n  </tbody>\n</table>\n<p>226 rows × 15 columns</p>\n</div>"
     },
     "metadata": {},
     "execution_count": 143
    }
   ],
   "source": [
    "dfAcc"
   ]
  },
  {
   "cell_type": "code",
   "execution_count": 144,
   "metadata": {},
   "outputs": [],
   "source": [
    "import tkinter as tk\n",
    "from tkinter import ttk\n",
    "from tkinter import filedialog as fd\n",
    "from tkinter import filedialog as fd\n",
    "from numpy.core.defchararray import startswith\n",
    "from numpy.core.numeric import outer\n",
    "import pyxlsb\n",
    "import pandas as pd\n",
    "import numpy as np\n",
    "import subprocess\n",
    "import numpy as np\n",
    "\n",
    "\n",
    "\n",
    "\n",
    "\n",
    "win = tk.Tk()\n",
    "win.title(\"Đối chiếu Paid list\")\n",
    "#-------------------------------------------------------------Declare global variables ------------------------------\n",
    "\n",
    "paidListFile = ''\n",
    "paidListFileUseCol=['Paid dated','Số hồ sơ BT/Số đơn','Currency','Số tiền']\n",
    "paidListFileUseColDataType={'Paid dated': np.datetime64, 'Note': object , 'Currency' : object, 'Amount': np.float64 }\n",
    "\n",
    "accFile = ''\n",
    "accFileUseCol=['Ngày chứng từ','Số chứng từ','Số đơn', 'Số đơn HT', 'Số đơn ĐT','Loại tiền', 'TK Nợ', 'TK Có', 'Số tiền', 'Số tiền VND']\n",
    "accFileUseColDataType={'Ngày chứng từ':np.datetime64,'TK Nợ':object,'Loại tiền': object, 'TK Có':object, 'Số tiền':np.float64, 'Số tiền VND':np.float64}\n",
    "savingFolder = ''\n",
    "savingFileName=''\n",
    "#radPremiumOrOthers=''\n",
    "dfPaidList=pd.DataFrame\n",
    "dfAcc=pd.DataFrame\n",
    "dfAccFinal=pd.DataFrame\n",
    "dfPaidListFinal=pd.DataFrame\n",
    "dfPaidListGroupBy=pd.DataFrame\n",
    "dfMerge=pd.DataFrame\n",
    "dfAccGroupByVoucher=pd.DataFrame\n",
    "dfAccFinalVoucher=pd.DataFrame\n",
    "\n",
    "fullOrLeft=''\n",
    "\n",
    "#------------------------------------------------------------- Widget event handle------------------------------------\n",
    "\n",
    "\n",
    "def click_select_cpc():\n",
    "    global paidListFile\n",
    "    paidListFile = fd.askopenfilename()\n",
    "\n",
    "\n",
    "def click_select_acc():\n",
    "    global accFile\n",
    "    accFile = fd.askopenfilename()\n",
    "\n",
    "\n",
    "def click_save_file():\n",
    "    global savingFolder\n",
    "    savingFolder = fd.askdirectory()\n",
    "    #print(saving_folder)\n",
    "\n",
    "def button_open_saved_file_click():\n",
    "    subprocess.Popen([f\"{savingFolder}/{savingFileName.get()}.csv\"], shell=True)\n",
    "    win.destroy()\n",
    "\n",
    "def rad_select_full_click():\n",
    "    global fullOrLeft\n",
    "    fullOrLeft = RadFullOrLeft.get() # return 'full'\n",
    "\n",
    "\n",
    "def rad_select_left_click():\n",
    "    global fullOrLeft\n",
    "    fullOrLeft = RadFullOrLeft.get() # return 'left'\n",
    "\n",
    "def return_policy(soDonHachToan, soDonDoiTru, soDon, taiKhoanNo, taiKhoanCo):\n",
    "    if len(soDonHachToan) < 2 and len(soDonDoiTru) < 2:\n",
    "        return soDon\n",
    "    elif len(soDonHachToan) < 2 and len(soDon) < 2:\n",
    "        return soDonDoiTru\n",
    "    elif len(soDon) < 2 and len(soDonDoiTru) < 2:\n",
    "        return soDonHachToan\n",
    "    elif taiKhoanCo.startswith('112'): # TK no -> 'So don DT', TK co -> 'So don HT'\n",
    "        if len(soDonDoiTru)>2:\n",
    "            return soDonDoiTru\n",
    "        else:\n",
    "            return soDon\n",
    "    elif taiKhoanNo.startswith('112'): # TK no -> 'So don DT', TK co -> 'So don HT'\n",
    "        if len(soDonHachToan)>2:\n",
    "            return soDonHachToan\n",
    "        else:\n",
    "            return soDon\n",
    "    else:\n",
    "        return\n",
    "\n",
    "\n",
    "def return_account(taiKhoanNo,taiKhoanCo):\n",
    "    if taiKhoanNo.startswith('112'):\n",
    "        return taiKhoanNo\n",
    "    elif taiKhoanCo.startswith('112'):\n",
    "        return taiKhoanCo\n",
    "    else:\n",
    "        return 'TaiKhoanKhac'\n",
    "\n",
    "\n",
    "def return_account_du(taiKhoanNo,taiKhoanCo):\n",
    "    if taiKhoanNo.startswith('112'):\n",
    "        return taiKhoanCo\n",
    "    elif taiKhoanCo.startswith('112'):\n",
    "        return taiKhoanNo\n",
    "    else:\n",
    "        return 'TaiKhoanKhac'\n",
    "\n",
    "def return_amount(taiKHoanNo,taiKhoanCo,soTien):\n",
    "    if taiKHoanNo.startswith('112'):\n",
    "        return soTien\n",
    "    elif taiKhoanCo.startswith('112'):\n",
    "        return -soTien\n",
    "    else:\n",
    "        return 0\n",
    "\n",
    "\n",
    "\n",
    "def click_execute():\n",
    "    from tkinter import messagebox as msg\n",
    "    global dfAccFinal\n",
    "    global dfPaidListFinal\n",
    "    global dfPaidList\n",
    "    global dfAcc\n",
    "    global dfPaidListGroupBy\n",
    "    global dfAccGroupByVoucher\n",
    "    global dfAccFinalVoucher\n",
    "    global dfMerge\n",
    "    global paidListFile\n",
    "    global accFile\n",
    "    global savingFolder\n",
    "    global savingFileName\n",
    "\n",
    "    #name=['No','Paid dated','Client Name','Amount','Currency','Type','Bank/Cash','Note','Số tiền','Place number','Số hồ sơ BT/Số đơn','Kỳ TT','Mã KH','Tài khoản']\n",
    "    try:\n",
    "        if paidListFile.endswith('xlsb'):\n",
    "            dfPaidList = pd.read_excel(paidListFile, usecols=paidListFileUseCol,sheet_name='Claim paid', skiprows=1,engine='pyxlsb')\n",
    "        else:\n",
    "            dfPaidList = pd.read_excel(paidListFile, usecols=paidListFileUseCol,sheet_name='Claim paid', skiprows=1)\n",
    "                  \n",
    "        if accFile.endswith('xlsb'):\n",
    "            dfAcc = pd.read_excel(accFile,usecols=accFileUseCol,skiprows=6,dtype=accFileUseColDataType, engine='pyxlsb')\n",
    "        else:\n",
    "            dfAcc = pd.read_excel(accFile,usecols=accFileUseCol,skiprows=6,dtype=accFileUseColDataType)\n",
    "    except:\n",
    "        msg.showerror(\"Error\", \"Only Excel files or CSV files are supported\")\n",
    "        pass\n",
    "\n",
    "    values={'Số đơn':'0', 'Số đơn HT':'0','Số đơn ĐT':'0'}\n",
    "    dfAcc=dfAcc.fillna(value=values)\n",
    "    dfAcc=dfAcc.loc[dfAcc['TK Có'].str.startswith('112')]\n",
    "    dfAcc['Policy']=dfAcc.apply(lambda x: return_policy(x['Số đơn'], x['Số đơn HT'], x['Số đơn ĐT'], x['TK Nợ'], x['TK Có']), axis=1)\n",
    "    dfAcc['Tai khoan']=dfAcc.apply(lambda x: return_account(x['TK Nợ'], x['TK Có']), axis=1)  \n",
    "    dfAcc['Tai khoan doi ung']=dfAcc.apply(lambda x: return_account_du(x['TK Nợ'], x['TK Có']), axis=1)  \n",
    "    dfAcc['So tien NT']=dfAcc.apply(lambda x: return_amount(x['TK Nợ'], x['TK Có'],x['Số tiền']), axis=1) \n",
    "    dfAcc['So tien VND']=dfAcc.apply(lambda x: return_amount(x['TK Nợ'], x['TK Có'],x['Số tiền VND']), axis=1) \n",
    "    dfAccFinal=dfAcc.loc[(dfAcc['Tai khoan']!='TaiKhoanKhac') & (dfAcc['Tai khoan doi ung'].str.startswith(('624','331','333','131','133','138','338'))),['Ngày chứng từ','Policy','Loại tiền','So tien NT']] \n",
    "    dfAccFinalGroupby=dfAccFinal.groupby(['Ngày chứng từ','Policy','Loại tiền'],as_index=False)['So tien NT'].sum()\n",
    "    dfAccFinalVoucher=dfAcc.loc[(dfAcc['Tai khoan']!='TaiKhoanKhac') & (dfAcc['Tai khoan doi ung'].str.startswith(('624','331','333','131','133','138','338'))),['Ngày chứng từ','Policy','Loại tiền','Số chứng từ']]\n",
    "    dfAccGroupByVoucher=dfAccFinalVoucher.groupby(['Ngày chứng từ','Policy','Loại tiền'],as_index=False)['Số chứng từ'].transform(lambda x: ','.join(x))\n",
    "    \n",
    "    dfPaidList=dfPaidList[dfPaidList['Số hồ sơ BT/Số đơn'].notna()]\n",
    "    a=np.datetime64('2000-01-01')\n",
    "    values={'Paid dated':a ,'Số hồ sơ BT/Số đơn': '0','Currency':'0','Số tiền':0}\n",
    "    dfPaidList=dfPaidList.fillna(value=values)\n",
    "    dfPaidListGroupBy=dfPaidList.groupby(['Paid dated','Số hồ sơ BT/Số đơn','Currency'],as_index=False)['Số tiền'].sum()\n",
    "    if fullOrLeft=='full':\n",
    "        dfMerge=dfPaidListGroupBy.merge(dfAccFinalGroupby,how='outer',left_on=['Paid dated','Số hồ sơ BT/Số đơn','Currency'],right_on=['Ngày chứng từ','Policy','Loại tiền'],suffixes=['PL','ACC'])\n",
    "    else:\n",
    "        dfMerge=dfPaidListGroupBy.merge(dfAccFinalGroupby,how='left',left_on=['Paid dated','Số hồ sơ BT/Số đơn','Currency'],right_on=['Ngày chứng từ','Policy','Loại tiền'],suffixes=['PL','ACC'])\n",
    "    dfMerge['Chenh lech']=dfMerge['Số tiền']+dfMerge['So tien NT']\n",
    "    dfMerge.to_csv(f\"{savingFolder}/{savingFileName.get()}.csv\", encoding=\"utf-8-sig\", index=False)\n",
    "    msg.showinfo(\"Information\", \"Đã hoàn thành\")\n",
    "    subprocess.Popen([f\"{savingFolder}/{savingFileName.get()}.csv\"], shell=True)\n",
    "    \n",
    "    paidListFile = ''\n",
    "    accFile = ''\n",
    "    savingFolder = ''\n",
    "    savingFileName=''\n",
    "    #radPremiumOrOthers=''\n",
    "    #dfPaidList=pd.DataFrame\n",
    "    #dfAcc=pd.DataFrame\n",
    "    #dfAccFinal=pd.DataFrame\n",
    "    #dfPaidListFinal=pd.DataFrame\n",
    "    #dfPaidListGroupBy=pd.DataFrame\n",
    "\n",
    "\n",
    "# ----------------------------------------------------------------- Widget------------------------------------------------\n",
    "\n",
    "RadFullOrLeft = tk.StringVar()\n",
    "\n",
    "\n",
    "rad_select_full = ttk.Radiobutton(win, text='Full', width=30, value='full', variable=RadFullOrLeft, command=rad_select_full_click)\n",
    "rad_select_full.grid(column=0, row=0)\n",
    "\n",
    "rad_select_claim = ttk.Radiobutton(win, text='Left', width=30, value='left', variable=RadFullOrLeft, command=rad_select_left_click)\n",
    "rad_select_claim.grid(column=1, row=0)\n",
    "\n",
    "ttk.Label(win, text=\"Chọn file Paid list\", width=20).grid(column=0, row=1)\n",
    "button1 = ttk.Button(win, text=\"Paid list\", width=20, command=click_select_cpc)\n",
    "button1.grid(column=1, row=1)\n",
    "\n",
    "ttk.Label(win, text=\"Chọn file CTGS\", width=20).grid(column=0, row=2)\n",
    "button2 = ttk.Button(win, text=\"CTGS\", width=20, command=click_select_acc)\n",
    "button2.grid(column=1, row=2)\n",
    "\n",
    "ttk.Label(win, text=\"Chọn thư mục lưu file\", width=20).grid(column=0, row=3)\n",
    "button2 = ttk.Button(win, text=\"Folder\", width=20, command=click_save_file)\n",
    "button2.grid(column=1, row=3)\n",
    "\n",
    "ttk.Label(win, text=\"Nhập tên file\", width=20).grid(column=0, row=4)\n",
    "savingFileName = ttk.Entry(win, width=20)\n",
    "savingFileName.grid(column=1, row=4)\n",
    "\n",
    "ttk.Label(win, text=\"Xử lý số liệu\", width=20).grid(column=0, row=5)\n",
    "button3 = ttk.Button(win, text=\"Run\", width=20, command=click_execute)\n",
    "button3.grid(column=1, row=5)\n",
    "\n",
    "label_open_saved_file = ttk.Label(win, text=\"Mở file\", width=20).grid(column=0, row=6)\n",
    "button_open_saved_file = ttk.Button(win, text=\"Mở file\", width=20, command=button_open_saved_file_click)\n",
    "button_open_saved_file.grid(column=1, row=6)\n",
    "\n",
    "\n",
    "\n",
    "\n",
    "win.mainloop()"
   ]
  },
  {
   "cell_type": "code",
   "execution_count": 149,
   "metadata": {},
   "outputs": [
    {
     "output_type": "execute_result",
     "data": {
      "text/plain": "     Ngày chứng từ                                 Policy Loại tiền  \\\n2       2020-09-29                          VND49.901.801       VND   \n5       2020-09-28  TT TIEN MUA QUA TRUNG THU INV 0049465       VND   \n9       2020-09-29                                      0       VND   \n10      2020-09-29                         350.435.266VND       VND   \n189     2020-09-29                                      0       VND   \n...            ...                                    ...       ...   \n1523    2020-09-28               PAR180005HBF.C.CL01.BT.4       VND   \n1525    2020-09-28        WCI180002HYD_HOYA.004.CL01.BT.6       VND   \n1526    2020-09-28        WCI200002HYD_HOYA.001.CL29.BT.2       VND   \n1527    2020-09-28        WCI200002HYD_HOYA.001.CL22.BT.2       VND   \n1528    2020-09-28             PAI190002HYD.001.CL09.BT.3       VND   \n\n           Số chứng từ  \n2        04.09_20.0128  \n5        04.09_20.0154  \n9        04.09_20.0163  \n10       04.09_20.0166  \n189   30141.09_20.0701  \n...                ...  \n1523    603.09_20.0002  \n1525    605.09_20.0046  \n1526    605.09_20.0047  \n1527    605.09_20.0049  \n1528    605.09_20.0050  \n\n[200 rows x 4 columns]",
      "text/html": "<div>\n<style scoped>\n    .dataframe tbody tr th:only-of-type {\n        vertical-align: middle;\n    }\n\n    .dataframe tbody tr th {\n        vertical-align: top;\n    }\n\n    .dataframe thead th {\n        text-align: right;\n    }\n</style>\n<table border=\"1\" class=\"dataframe\">\n  <thead>\n    <tr style=\"text-align: right;\">\n      <th></th>\n      <th>Ngày chứng từ</th>\n      <th>Policy</th>\n      <th>Loại tiền</th>\n      <th>Số chứng từ</th>\n    </tr>\n  </thead>\n  <tbody>\n    <tr>\n      <th>2</th>\n      <td>2020-09-29</td>\n      <td>VND49.901.801</td>\n      <td>VND</td>\n      <td>04.09_20.0128</td>\n    </tr>\n    <tr>\n      <th>5</th>\n      <td>2020-09-28</td>\n      <td>TT TIEN MUA QUA TRUNG THU INV 0049465</td>\n      <td>VND</td>\n      <td>04.09_20.0154</td>\n    </tr>\n    <tr>\n      <th>9</th>\n      <td>2020-09-29</td>\n      <td>0</td>\n      <td>VND</td>\n      <td>04.09_20.0163</td>\n    </tr>\n    <tr>\n      <th>10</th>\n      <td>2020-09-29</td>\n      <td>350.435.266VND</td>\n      <td>VND</td>\n      <td>04.09_20.0166</td>\n    </tr>\n    <tr>\n      <th>189</th>\n      <td>2020-09-29</td>\n      <td>0</td>\n      <td>VND</td>\n      <td>30141.09_20.0701</td>\n    </tr>\n    <tr>\n      <th>...</th>\n      <td>...</td>\n      <td>...</td>\n      <td>...</td>\n      <td>...</td>\n    </tr>\n    <tr>\n      <th>1523</th>\n      <td>2020-09-28</td>\n      <td>PAR180005HBF.C.CL01.BT.4</td>\n      <td>VND</td>\n      <td>603.09_20.0002</td>\n    </tr>\n    <tr>\n      <th>1525</th>\n      <td>2020-09-28</td>\n      <td>WCI180002HYD_HOYA.004.CL01.BT.6</td>\n      <td>VND</td>\n      <td>605.09_20.0046</td>\n    </tr>\n    <tr>\n      <th>1526</th>\n      <td>2020-09-28</td>\n      <td>WCI200002HYD_HOYA.001.CL29.BT.2</td>\n      <td>VND</td>\n      <td>605.09_20.0047</td>\n    </tr>\n    <tr>\n      <th>1527</th>\n      <td>2020-09-28</td>\n      <td>WCI200002HYD_HOYA.001.CL22.BT.2</td>\n      <td>VND</td>\n      <td>605.09_20.0049</td>\n    </tr>\n    <tr>\n      <th>1528</th>\n      <td>2020-09-28</td>\n      <td>PAI190002HYD.001.CL09.BT.3</td>\n      <td>VND</td>\n      <td>605.09_20.0050</td>\n    </tr>\n  </tbody>\n</table>\n<p>200 rows × 4 columns</p>\n</div>"
     },
     "metadata": {},
     "execution_count": 149
    }
   ],
   "source": [
    "dfAccFinalVoucher"
   ]
  },
  {
   "cell_type": "code",
   "execution_count": 148,
   "metadata": {},
   "outputs": [
    {
     "output_type": "execute_result",
     "data": {
      "text/plain": "                                            Số chứng từ\n2                                         04.09_20.0128\n5                                         04.09_20.0154\n9     04.09_20.0163,30141.09_20.0701,30141.09_20.070...\n10                                        04.09_20.0166\n198                   30141.09_20.0702,30141.09_20.0708\n268                                    30141.09_20.0747\n357                                    30141.09_20.0764\n412                   30141.09_20.0846,30141.09_20.0861\n416                                    30141.09_20.0848\n428   30141.09_20.0866,30141.09_20.0866,30141.09_20....\n494                                    30141.09_20.0884\n627                                    30141.09_20.0909\n645   30141.09_20.0959,30141.09_20.0959,30141.09_20....\n1522                                     100.09_20.0031\n1523                                     603.09_20.0002\n1525                                     605.09_20.0046\n1526                                     605.09_20.0047\n1527                                     605.09_20.0049\n1528                                     605.09_20.0050",
      "text/html": "<div>\n<style scoped>\n    .dataframe tbody tr th:only-of-type {\n        vertical-align: middle;\n    }\n\n    .dataframe tbody tr th {\n        vertical-align: top;\n    }\n\n    .dataframe thead th {\n        text-align: right;\n    }\n</style>\n<table border=\"1\" class=\"dataframe\">\n  <thead>\n    <tr style=\"text-align: right;\">\n      <th></th>\n      <th>Số chứng từ</th>\n    </tr>\n  </thead>\n  <tbody>\n    <tr>\n      <th>2</th>\n      <td>04.09_20.0128</td>\n    </tr>\n    <tr>\n      <th>5</th>\n      <td>04.09_20.0154</td>\n    </tr>\n    <tr>\n      <th>9</th>\n      <td>04.09_20.0163,30141.09_20.0701,30141.09_20.070...</td>\n    </tr>\n    <tr>\n      <th>10</th>\n      <td>04.09_20.0166</td>\n    </tr>\n    <tr>\n      <th>198</th>\n      <td>30141.09_20.0702,30141.09_20.0708</td>\n    </tr>\n    <tr>\n      <th>268</th>\n      <td>30141.09_20.0747</td>\n    </tr>\n    <tr>\n      <th>357</th>\n      <td>30141.09_20.0764</td>\n    </tr>\n    <tr>\n      <th>412</th>\n      <td>30141.09_20.0846,30141.09_20.0861</td>\n    </tr>\n    <tr>\n      <th>416</th>\n      <td>30141.09_20.0848</td>\n    </tr>\n    <tr>\n      <th>428</th>\n      <td>30141.09_20.0866,30141.09_20.0866,30141.09_20....</td>\n    </tr>\n    <tr>\n      <th>494</th>\n      <td>30141.09_20.0884</td>\n    </tr>\n    <tr>\n      <th>627</th>\n      <td>30141.09_20.0909</td>\n    </tr>\n    <tr>\n      <th>645</th>\n      <td>30141.09_20.0959,30141.09_20.0959,30141.09_20....</td>\n    </tr>\n    <tr>\n      <th>1522</th>\n      <td>100.09_20.0031</td>\n    </tr>\n    <tr>\n      <th>1523</th>\n      <td>603.09_20.0002</td>\n    </tr>\n    <tr>\n      <th>1525</th>\n      <td>605.09_20.0046</td>\n    </tr>\n    <tr>\n      <th>1526</th>\n      <td>605.09_20.0047</td>\n    </tr>\n    <tr>\n      <th>1527</th>\n      <td>605.09_20.0049</td>\n    </tr>\n    <tr>\n      <th>1528</th>\n      <td>605.09_20.0050</td>\n    </tr>\n  </tbody>\n</table>\n</div>"
     },
     "metadata": {},
     "execution_count": 148
    }
   ],
   "source": [
    "dfAccGroupByVoucher.drop_duplicates()"
   ]
  },
  {
   "cell_type": "code",
   "execution_count": 147,
   "metadata": {},
   "outputs": [
    {
     "output_type": "execute_result",
     "data": {
      "text/plain": "     Ngày chứng từ                  Policy Loại tiền  So tien NT\n0       2020-01-10  CPH180010SGD.CL36.BT.2       VND -11651327.0\n1       2020-01-10  CPH180013HBD.CL38.BT.2       VND  -3500000.0\n2       2020-01-10  CPH180013SGD.CL03.BT.2       VND  -2513000.0\n3       2020-01-10  CPH180059HPD.CL35.BT.2       VND   -200000.0\n4       2020-01-10  CPH180068HPD.CL32.BT.2       VND   -750000.0\n...            ...                     ...       ...         ...\n4182    2020-08-27      Inv0009094_384.878       VND   -349889.0\n4183    2020-08-27    Inv0013164_3.615.000       VND  -3286364.0\n4184    2020-08-27      Inv0021533_326.700       VND   -297000.0\n4185    2020-08-27    Inv0027682_1.358.500       VND  -1235000.0\n4186    2020-08-29                       0       VND    -80465.0\n\n[4187 rows x 4 columns]",
      "text/html": "<div>\n<style scoped>\n    .dataframe tbody tr th:only-of-type {\n        vertical-align: middle;\n    }\n\n    .dataframe tbody tr th {\n        vertical-align: top;\n    }\n\n    .dataframe thead th {\n        text-align: right;\n    }\n</style>\n<table border=\"1\" class=\"dataframe\">\n  <thead>\n    <tr style=\"text-align: right;\">\n      <th></th>\n      <th>Ngày chứng từ</th>\n      <th>Policy</th>\n      <th>Loại tiền</th>\n      <th>So tien NT</th>\n    </tr>\n  </thead>\n  <tbody>\n    <tr>\n      <th>0</th>\n      <td>2020-01-10</td>\n      <td>CPH180010SGD.CL36.BT.2</td>\n      <td>VND</td>\n      <td>-11651327.0</td>\n    </tr>\n    <tr>\n      <th>1</th>\n      <td>2020-01-10</td>\n      <td>CPH180013HBD.CL38.BT.2</td>\n      <td>VND</td>\n      <td>-3500000.0</td>\n    </tr>\n    <tr>\n      <th>2</th>\n      <td>2020-01-10</td>\n      <td>CPH180013SGD.CL03.BT.2</td>\n      <td>VND</td>\n      <td>-2513000.0</td>\n    </tr>\n    <tr>\n      <th>3</th>\n      <td>2020-01-10</td>\n      <td>CPH180059HPD.CL35.BT.2</td>\n      <td>VND</td>\n      <td>-200000.0</td>\n    </tr>\n    <tr>\n      <th>4</th>\n      <td>2020-01-10</td>\n      <td>CPH180068HPD.CL32.BT.2</td>\n      <td>VND</td>\n      <td>-750000.0</td>\n    </tr>\n    <tr>\n      <th>...</th>\n      <td>...</td>\n      <td>...</td>\n      <td>...</td>\n      <td>...</td>\n    </tr>\n    <tr>\n      <th>4182</th>\n      <td>2020-08-27</td>\n      <td>Inv0009094_384.878</td>\n      <td>VND</td>\n      <td>-349889.0</td>\n    </tr>\n    <tr>\n      <th>4183</th>\n      <td>2020-08-27</td>\n      <td>Inv0013164_3.615.000</td>\n      <td>VND</td>\n      <td>-3286364.0</td>\n    </tr>\n    <tr>\n      <th>4184</th>\n      <td>2020-08-27</td>\n      <td>Inv0021533_326.700</td>\n      <td>VND</td>\n      <td>-297000.0</td>\n    </tr>\n    <tr>\n      <th>4185</th>\n      <td>2020-08-27</td>\n      <td>Inv0027682_1.358.500</td>\n      <td>VND</td>\n      <td>-1235000.0</td>\n    </tr>\n    <tr>\n      <th>4186</th>\n      <td>2020-08-29</td>\n      <td>0</td>\n      <td>VND</td>\n      <td>-80465.0</td>\n    </tr>\n  </tbody>\n</table>\n<p>4187 rows × 4 columns</p>\n</div>"
     },
     "metadata": {},
     "execution_count": 147
    }
   ],
   "source": [
    "dfAccFinalGroupby"
   ]
  },
  {
   "cell_type": "code",
   "execution_count": 150,
   "metadata": {},
   "outputs": [],
   "source": [
    "dfAccFinalVoucher['So chung tu']=dfAccFinalVoucher.groupby(['Ngày chứng từ','Policy','Loại tiền'],as_index=False)['Số chứng từ'].transform(lambda x: ','.join(x))\n",
    "dfAccGroupByVoucher=dfAccFinalVoucher.drop_duplicates()"
   ]
  },
  {
   "cell_type": "code",
   "execution_count": 151,
   "metadata": {},
   "outputs": [
    {
     "output_type": "execute_result",
     "data": {
      "text/plain": "     Ngày chứng từ                                 Policy Loại tiền  \\\n2       2020-09-29                          VND49.901.801       VND   \n5       2020-09-28  TT TIEN MUA QUA TRUNG THU INV 0049465       VND   \n9       2020-09-29                                      0       VND   \n10      2020-09-29                         350.435.266VND       VND   \n189     2020-09-29                                      0       VND   \n...            ...                                    ...       ...   \n1523    2020-09-28               PAR180005HBF.C.CL01.BT.4       VND   \n1525    2020-09-28        WCI180002HYD_HOYA.004.CL01.BT.6       VND   \n1526    2020-09-28        WCI200002HYD_HOYA.001.CL29.BT.2       VND   \n1527    2020-09-28        WCI200002HYD_HOYA.001.CL22.BT.2       VND   \n1528    2020-09-28             PAI190002HYD.001.CL09.BT.3       VND   \n\n           Số chứng từ                                        So chung tu  \n2        04.09_20.0128                                      04.09_20.0128  \n5        04.09_20.0154                                      04.09_20.0154  \n9        04.09_20.0163  04.09_20.0163,30141.09_20.0701,30141.09_20.070...  \n10       04.09_20.0166                                      04.09_20.0166  \n189   30141.09_20.0701  04.09_20.0163,30141.09_20.0701,30141.09_20.070...  \n...                ...                                                ...  \n1523    603.09_20.0002                                     603.09_20.0002  \n1525    605.09_20.0046                                     605.09_20.0046  \n1526    605.09_20.0047                                     605.09_20.0047  \n1527    605.09_20.0049                                     605.09_20.0049  \n1528    605.09_20.0050                                     605.09_20.0050  \n\n[124 rows x 5 columns]",
      "text/html": "<div>\n<style scoped>\n    .dataframe tbody tr th:only-of-type {\n        vertical-align: middle;\n    }\n\n    .dataframe tbody tr th {\n        vertical-align: top;\n    }\n\n    .dataframe thead th {\n        text-align: right;\n    }\n</style>\n<table border=\"1\" class=\"dataframe\">\n  <thead>\n    <tr style=\"text-align: right;\">\n      <th></th>\n      <th>Ngày chứng từ</th>\n      <th>Policy</th>\n      <th>Loại tiền</th>\n      <th>Số chứng từ</th>\n      <th>So chung tu</th>\n    </tr>\n  </thead>\n  <tbody>\n    <tr>\n      <th>2</th>\n      <td>2020-09-29</td>\n      <td>VND49.901.801</td>\n      <td>VND</td>\n      <td>04.09_20.0128</td>\n      <td>04.09_20.0128</td>\n    </tr>\n    <tr>\n      <th>5</th>\n      <td>2020-09-28</td>\n      <td>TT TIEN MUA QUA TRUNG THU INV 0049465</td>\n      <td>VND</td>\n      <td>04.09_20.0154</td>\n      <td>04.09_20.0154</td>\n    </tr>\n    <tr>\n      <th>9</th>\n      <td>2020-09-29</td>\n      <td>0</td>\n      <td>VND</td>\n      <td>04.09_20.0163</td>\n      <td>04.09_20.0163,30141.09_20.0701,30141.09_20.070...</td>\n    </tr>\n    <tr>\n      <th>10</th>\n      <td>2020-09-29</td>\n      <td>350.435.266VND</td>\n      <td>VND</td>\n      <td>04.09_20.0166</td>\n      <td>04.09_20.0166</td>\n    </tr>\n    <tr>\n      <th>189</th>\n      <td>2020-09-29</td>\n      <td>0</td>\n      <td>VND</td>\n      <td>30141.09_20.0701</td>\n      <td>04.09_20.0163,30141.09_20.0701,30141.09_20.070...</td>\n    </tr>\n    <tr>\n      <th>...</th>\n      <td>...</td>\n      <td>...</td>\n      <td>...</td>\n      <td>...</td>\n      <td>...</td>\n    </tr>\n    <tr>\n      <th>1523</th>\n      <td>2020-09-28</td>\n      <td>PAR180005HBF.C.CL01.BT.4</td>\n      <td>VND</td>\n      <td>603.09_20.0002</td>\n      <td>603.09_20.0002</td>\n    </tr>\n    <tr>\n      <th>1525</th>\n      <td>2020-09-28</td>\n      <td>WCI180002HYD_HOYA.004.CL01.BT.6</td>\n      <td>VND</td>\n      <td>605.09_20.0046</td>\n      <td>605.09_20.0046</td>\n    </tr>\n    <tr>\n      <th>1526</th>\n      <td>2020-09-28</td>\n      <td>WCI200002HYD_HOYA.001.CL29.BT.2</td>\n      <td>VND</td>\n      <td>605.09_20.0047</td>\n      <td>605.09_20.0047</td>\n    </tr>\n    <tr>\n      <th>1527</th>\n      <td>2020-09-28</td>\n      <td>WCI200002HYD_HOYA.001.CL22.BT.2</td>\n      <td>VND</td>\n      <td>605.09_20.0049</td>\n      <td>605.09_20.0049</td>\n    </tr>\n    <tr>\n      <th>1528</th>\n      <td>2020-09-28</td>\n      <td>PAI190002HYD.001.CL09.BT.3</td>\n      <td>VND</td>\n      <td>605.09_20.0050</td>\n      <td>605.09_20.0050</td>\n    </tr>\n  </tbody>\n</table>\n<p>124 rows × 5 columns</p>\n</div>"
     },
     "metadata": {},
     "execution_count": 151
    }
   ],
   "source": [
    "dfAccGroupByVoucher"
   ]
  },
  {
   "cell_type": "code",
   "execution_count": null,
   "metadata": {},
   "outputs": [],
   "source": []
  }
 ]
}